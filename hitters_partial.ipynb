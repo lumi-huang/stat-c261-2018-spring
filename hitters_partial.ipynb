{
 "cells": [
  {
   "cell_type": "markdown",
   "metadata": {},
   "source": [
    "# Lab: Feature Selection for Linear Models for Baseball Salaries\n",
    "\n",
    "Ever wondered why sports players make the money they do?\n",
    "\n",
    "In this lab, we will use linear models with feature selection to figure this out. The problem is to predict a baseball player's salary based on various statistics such as the number of hits, home runs, etc.  In doing the lab, you will learn how to:\n",
    "\n",
    "* Convert categorical features to numerical values using tools in the `pandas` package.\n",
    "* Perform LASSO and compare the results with simple linear mddel fit without regularization.\n",
    "* Visualize the features obtained by LASSO and the LASSO path.\n",
    "\n",
    "This lab is a Python adaptation of p. 251-255 of \"Introduction to Statistical Learning with Applications in R\" by Gareth James, Daniela Witten, Trevor Hastie and Robert Tibshirani. \n",
    "\n",
    "Submission: \n",
    "\n",
    "* Fill in all the parts labeled `TODO`\n",
    "* Print out your jupyter notebook, convert to pdf and upload on CCLE."
   ]
  },
  {
   "cell_type": "markdown",
   "metadata": {},
   "source": [
    "## Loading and Pre-processing the Data\n",
    "\n",
    "First we load some standard packages. "
   ]
  },
  {
   "cell_type": "code",
   "execution_count": 340,
   "metadata": {
    "collapsed": true
   },
   "outputs": [],
   "source": [
    "%matplotlib inline\n",
    "\n",
    "import pandas as pd\n",
    "import numpy as np\n",
    "import matplotlib.pyplot as plt"
   ]
  },
  {
   "cell_type": "markdown",
   "metadata": {},
   "source": [
    "First, download the file `Hitters.csv` from the assignment page on the CCLE website.  Use the `pd.read_csv` command to load the file into a dataframe `df`.  Then, use the `pd.head()` command to view the first few lines of the file.  It is always good to visualize the  dataframe to ensure that the file is loaded correctly."
   ]
  },
  {
   "cell_type": "code",
   "execution_count": 341,
   "metadata": {
    "collapsed": false
   },
   "outputs": [
    {
     "data": {
      "text/html": [
       "<div>\n",
       "<table border=\"1\" class=\"dataframe\">\n",
       "  <thead>\n",
       "    <tr style=\"text-align: right;\">\n",
       "      <th></th>\n",
       "      <th>Unnamed: 0</th>\n",
       "      <th>AtBat</th>\n",
       "      <th>Hits</th>\n",
       "      <th>HmRun</th>\n",
       "      <th>Runs</th>\n",
       "      <th>RBI</th>\n",
       "      <th>Walks</th>\n",
       "      <th>Years</th>\n",
       "      <th>CAtBat</th>\n",
       "      <th>CHits</th>\n",
       "      <th>...</th>\n",
       "      <th>CRuns</th>\n",
       "      <th>CRBI</th>\n",
       "      <th>CWalks</th>\n",
       "      <th>League</th>\n",
       "      <th>Division</th>\n",
       "      <th>PutOuts</th>\n",
       "      <th>Assists</th>\n",
       "      <th>Errors</th>\n",
       "      <th>Salary</th>\n",
       "      <th>NewLeague</th>\n",
       "    </tr>\n",
       "  </thead>\n",
       "  <tbody>\n",
       "    <tr>\n",
       "      <th>0</th>\n",
       "      <td>-Andy Allanson</td>\n",
       "      <td>293</td>\n",
       "      <td>66</td>\n",
       "      <td>1</td>\n",
       "      <td>30</td>\n",
       "      <td>29</td>\n",
       "      <td>14</td>\n",
       "      <td>1</td>\n",
       "      <td>293</td>\n",
       "      <td>66</td>\n",
       "      <td>...</td>\n",
       "      <td>30</td>\n",
       "      <td>29</td>\n",
       "      <td>14</td>\n",
       "      <td>A</td>\n",
       "      <td>E</td>\n",
       "      <td>446</td>\n",
       "      <td>33</td>\n",
       "      <td>20</td>\n",
       "      <td>NaN</td>\n",
       "      <td>A</td>\n",
       "    </tr>\n",
       "    <tr>\n",
       "      <th>1</th>\n",
       "      <td>-Alan Ashby</td>\n",
       "      <td>315</td>\n",
       "      <td>81</td>\n",
       "      <td>7</td>\n",
       "      <td>24</td>\n",
       "      <td>38</td>\n",
       "      <td>39</td>\n",
       "      <td>14</td>\n",
       "      <td>3449</td>\n",
       "      <td>835</td>\n",
       "      <td>...</td>\n",
       "      <td>321</td>\n",
       "      <td>414</td>\n",
       "      <td>375</td>\n",
       "      <td>N</td>\n",
       "      <td>W</td>\n",
       "      <td>632</td>\n",
       "      <td>43</td>\n",
       "      <td>10</td>\n",
       "      <td>475.0</td>\n",
       "      <td>N</td>\n",
       "    </tr>\n",
       "    <tr>\n",
       "      <th>2</th>\n",
       "      <td>-Alvin Davis</td>\n",
       "      <td>479</td>\n",
       "      <td>130</td>\n",
       "      <td>18</td>\n",
       "      <td>66</td>\n",
       "      <td>72</td>\n",
       "      <td>76</td>\n",
       "      <td>3</td>\n",
       "      <td>1624</td>\n",
       "      <td>457</td>\n",
       "      <td>...</td>\n",
       "      <td>224</td>\n",
       "      <td>266</td>\n",
       "      <td>263</td>\n",
       "      <td>A</td>\n",
       "      <td>W</td>\n",
       "      <td>880</td>\n",
       "      <td>82</td>\n",
       "      <td>14</td>\n",
       "      <td>480.0</td>\n",
       "      <td>A</td>\n",
       "    </tr>\n",
       "    <tr>\n",
       "      <th>3</th>\n",
       "      <td>-Andre Dawson</td>\n",
       "      <td>496</td>\n",
       "      <td>141</td>\n",
       "      <td>20</td>\n",
       "      <td>65</td>\n",
       "      <td>78</td>\n",
       "      <td>37</td>\n",
       "      <td>11</td>\n",
       "      <td>5628</td>\n",
       "      <td>1575</td>\n",
       "      <td>...</td>\n",
       "      <td>828</td>\n",
       "      <td>838</td>\n",
       "      <td>354</td>\n",
       "      <td>N</td>\n",
       "      <td>E</td>\n",
       "      <td>200</td>\n",
       "      <td>11</td>\n",
       "      <td>3</td>\n",
       "      <td>500.0</td>\n",
       "      <td>N</td>\n",
       "    </tr>\n",
       "    <tr>\n",
       "      <th>4</th>\n",
       "      <td>-Andres Galarraga</td>\n",
       "      <td>321</td>\n",
       "      <td>87</td>\n",
       "      <td>10</td>\n",
       "      <td>39</td>\n",
       "      <td>42</td>\n",
       "      <td>30</td>\n",
       "      <td>2</td>\n",
       "      <td>396</td>\n",
       "      <td>101</td>\n",
       "      <td>...</td>\n",
       "      <td>48</td>\n",
       "      <td>46</td>\n",
       "      <td>33</td>\n",
       "      <td>N</td>\n",
       "      <td>E</td>\n",
       "      <td>805</td>\n",
       "      <td>40</td>\n",
       "      <td>4</td>\n",
       "      <td>91.5</td>\n",
       "      <td>N</td>\n",
       "    </tr>\n",
       "  </tbody>\n",
       "</table>\n",
       "<p>5 rows × 21 columns</p>\n",
       "</div>"
      ],
      "text/plain": [
       "          Unnamed: 0  AtBat  Hits  HmRun  Runs  RBI  Walks  Years  CAtBat  \\\n",
       "0     -Andy Allanson    293    66      1    30   29     14      1     293   \n",
       "1        -Alan Ashby    315    81      7    24   38     39     14    3449   \n",
       "2       -Alvin Davis    479   130     18    66   72     76      3    1624   \n",
       "3      -Andre Dawson    496   141     20    65   78     37     11    5628   \n",
       "4  -Andres Galarraga    321    87     10    39   42     30      2     396   \n",
       "\n",
       "   CHits    ...      CRuns  CRBI  CWalks  League Division PutOuts  Assists  \\\n",
       "0     66    ...         30    29      14       A        E     446       33   \n",
       "1    835    ...        321   414     375       N        W     632       43   \n",
       "2    457    ...        224   266     263       A        W     880       82   \n",
       "3   1575    ...        828   838     354       N        E     200       11   \n",
       "4    101    ...         48    46      33       N        E     805       40   \n",
       "\n",
       "   Errors  Salary  NewLeague  \n",
       "0      20     NaN          A  \n",
       "1      10   475.0          N  \n",
       "2      14   480.0          A  \n",
       "3       3   500.0          N  \n",
       "4       4    91.5          N  \n",
       "\n",
       "[5 rows x 21 columns]"
      ]
     },
     "execution_count": 341,
     "metadata": {},
     "output_type": "execute_result"
    }
   ],
   "source": [
    "# TODO\n",
    "# df = pd.read_csv(...)\n",
    "df = pd.read_csv('/Users/lumi/Documents/UCLA/Grad/18 SPRING/c261/hw/Hitters.csv')\n",
    "df.head()"
   ]
  },
  {
   "cell_type": "markdown",
   "metadata": {},
   "source": [
    "Now do the following\n",
    "* Use the `df = df.dropna()` command to remove any rows of the dataframe where there is incomplete data\n",
    "* Use the the `df = df.drop(col_list,s=1)` method to remove the column with the player's name.  For the parameter `col_list`, put the list of string names of the columns to be dropped.\n",
    "* Use `df.info()` to show all the columns."
   ]
  },
  {
   "cell_type": "code",
   "execution_count": 342,
   "metadata": {
    "collapsed": false
   },
   "outputs": [
    {
     "name": "stdout",
     "output_type": "stream",
     "text": [
      "<class 'pandas.core.frame.DataFrame'>\n",
      "Int64Index: 263 entries, 1 to 321\n",
      "Data columns (total 20 columns):\n",
      "AtBat        263 non-null int64\n",
      "Hits         263 non-null int64\n",
      "HmRun        263 non-null int64\n",
      "Runs         263 non-null int64\n",
      "RBI          263 non-null int64\n",
      "Walks        263 non-null int64\n",
      "Years        263 non-null int64\n",
      "CAtBat       263 non-null int64\n",
      "CHits        263 non-null int64\n",
      "CHmRun       263 non-null int64\n",
      "CRuns        263 non-null int64\n",
      "CRBI         263 non-null int64\n",
      "CWalks       263 non-null int64\n",
      "League       263 non-null object\n",
      "Division     263 non-null object\n",
      "PutOuts      263 non-null int64\n",
      "Assists      263 non-null int64\n",
      "Errors       263 non-null int64\n",
      "Salary       263 non-null float64\n",
      "NewLeague    263 non-null object\n",
      "dtypes: float64(1), int64(16), object(3)\n",
      "memory usage: 43.1+ KB\n"
     ]
    }
   ],
   "source": [
    "# TODO\n",
    "# df = ...\n",
    "# df.info()\n",
    "df = df.dropna()\n",
    "df = df.drop('Unnamed: 0', axis=1)\n",
    "df.info()"
   ]
  },
  {
   "cell_type": "markdown",
   "metadata": {},
   "source": [
    "You should see that three of the columns have `object` types.  These are categorical variables.  For example, `Division` is `E` or `W` for East or West.  We need to convert these to numeric values using one-hot coding.  Pandas has a routine for this called `get_dummies`.  Run `get_dummies` on the dataframe and run the `info` command to print the new columns."
   ]
  },
  {
   "cell_type": "code",
   "execution_count": 343,
   "metadata": {
    "collapsed": false
   },
   "outputs": [
    {
     "name": "stdout",
     "output_type": "stream",
     "text": [
      "<class 'pandas.core.frame.DataFrame'>\n",
      "Int64Index: 263 entries, 1 to 321\n",
      "Data columns (total 23 columns):\n",
      "AtBat          263 non-null int64\n",
      "Hits           263 non-null int64\n",
      "HmRun          263 non-null int64\n",
      "Runs           263 non-null int64\n",
      "RBI            263 non-null int64\n",
      "Walks          263 non-null int64\n",
      "Years          263 non-null int64\n",
      "CAtBat         263 non-null int64\n",
      "CHits          263 non-null int64\n",
      "CHmRun         263 non-null int64\n",
      "CRuns          263 non-null int64\n",
      "CRBI           263 non-null int64\n",
      "CWalks         263 non-null int64\n",
      "PutOuts        263 non-null int64\n",
      "Assists        263 non-null int64\n",
      "Errors         263 non-null int64\n",
      "Salary         263 non-null float64\n",
      "League_A       263 non-null uint8\n",
      "League_N       263 non-null uint8\n",
      "Division_E     263 non-null uint8\n",
      "Division_W     263 non-null uint8\n",
      "NewLeague_A    263 non-null uint8\n",
      "NewLeague_N    263 non-null uint8\n",
      "dtypes: float64(1), int64(16), uint8(6)\n",
      "memory usage: 38.5 KB\n"
     ]
    }
   ],
   "source": [
    "# TODO\n",
    "# df = pd.get_dummies(...)\n",
    "df = pd.get_dummies(df)\n",
    "df.info()"
   ]
  },
  {
   "cell_type": "markdown",
   "metadata": {},
   "source": [
    "You can see that the field such as `Division` has been converted to two fields `Division_E` and `Division_W`.  For one-hot coding we can remove one of each of the new fields.  Use the `df.drop(...)` method to do this."
   ]
  },
  {
   "cell_type": "code",
   "execution_count": 344,
   "metadata": {
    "collapsed": false
   },
   "outputs": [],
   "source": [
    "# TODO\n",
    "# df = df.drop(..., axis=1)  # Put the list of columns to drop in the arguments\n",
    "df = df.drop(['League_N', 'Division_W', 'NewLeague_N'], axis=1)"
   ]
  },
  {
   "cell_type": "markdown",
   "metadata": {},
   "source": [
    "Extract the `salary` column from the `df` dataframe and convert it to a `numpy` array `y`.  This will be the target vector."
   ]
  },
  {
   "cell_type": "code",
   "execution_count": 345,
   "metadata": {
    "collapsed": false
   },
   "outputs": [],
   "source": [
    "# TODO\n",
    "# y = ...\n",
    "y = df['Salary'].as_matrix() #target vector"
   ]
  },
  {
   "cell_type": "markdown",
   "metadata": {},
   "source": [
    "For the features, first create a dataframe `dfX` with the `salary` column removed.  You can use the `df.drop(...)` method.  Then, get a list of the feature names `features` from `dfX.columns.tolist()`.  We will use this list for printing later. Then, convert the dataframe `dfX` to a numpy array `X` for the data matrix of all the othe features."
   ]
  },
  {
   "cell_type": "code",
   "execution_count": 346,
   "metadata": {
    "collapsed": false
   },
   "outputs": [],
   "source": [
    "# TODO\n",
    "# dfX = ...\n",
    "# features = ...\n",
    "# X = ...\n",
    "\n",
    "dfX = df.drop('Salary', axis=1)\n",
    "features = dfX.columns.tolist()\n",
    "X = dfX.as_matrix()"
   ]
  },
  {
   "cell_type": "markdown",
   "metadata": {},
   "source": [
    "Print the number of samples, number of features, average salary and std deviation of the salary.  Note the salary is 1000s of US dollars."
   ]
  },
  {
   "cell_type": "code",
   "execution_count": 347,
   "metadata": {
    "collapsed": false
   },
   "outputs": [
    {
     "name": "stdout",
     "output_type": "stream",
     "text": [
      "number of samples: 263\n",
      "number of features: 19\n",
      "avg salary: 535925.882129 USD\n",
      "std deviation of the salary: 450260.223824 USD\n"
     ]
    }
   ],
   "source": [
    "# TODO\n",
    "nsamp = X.shape[0]\n",
    "nf = len(features)\n",
    "avgsalary = np.mean(1000*y)\n",
    "sdsalary = np.std(1000*y)\n",
    "print('number of samples:', nsamp)\n",
    "print('number of features:', nf)\n",
    "print('avg salary:', avgsalary, 'USD')\n",
    "print('std deviation of the salary:', sdsalary, 'USD')"
   ]
  },
  {
   "cell_type": "markdown",
   "metadata": {},
   "source": [
    "Finally, before continuing, we want to scale the features `X` and target `y` so that they have mean 0 and unit variance.  To do this, use the `preprocessing.scale` method.  Let `Xs` and `ys` be the scaled feature matrix."
   ]
  },
  {
   "cell_type": "code",
   "execution_count": 348,
   "metadata": {
    "collapsed": false
   },
   "outputs": [],
   "source": [
    "from sklearn import preprocessing\n",
    "\n",
    "# TODO \n",
    "# X = X.astype(float)   # Needed to avoid a warning with the scale method\n",
    "# Xs = ...\n",
    "# ys = ...\n",
    "X = X.astype(float)\n",
    "Xs = preprocessing.scale(X)\n",
    "ys = preprocessing.scale(y)"
   ]
  },
  {
   "cell_type": "markdown",
   "metadata": {},
   "source": [
    "# Linear Models with No Regularization\n",
    "\n",
    "First, we will try to fit the data with a linear model with no regularization.  First, split the data into training and test using half the samples for each.  You can use the `train_test_split` method. "
   ]
  },
  {
   "cell_type": "code",
   "execution_count": 349,
   "metadata": {
    "collapsed": false
   },
   "outputs": [],
   "source": [
    "from sklearn.model_selection import train_test_split\n",
    "\n",
    "#TODO\n",
    "# X_tr,X_ts, y_tr,y_ts = \n",
    "X_tr, X_ts, y_tr, y_ts = train_test_split(Xs, ys, test_size = 0.5, train_size = 0.5)\n"
   ]
  },
  {
   "cell_type": "markdown",
   "metadata": {},
   "source": [
    "Now use the `linear_model.LinearRegression()` to fit a linear model on the training data.  Measure the normalized MSE on the training and test data.  By normalized MSE we mean:\n",
    "\n",
    "    mse = np.mean((y-yhat)**2)/np.mean(y**2)\n",
    "  \n",
    "where `y` is the mean-removed true value and `yhat` is the predicted value.  This is the percentage of variance not explained by the model.   "
   ]
  },
  {
   "cell_type": "code",
   "execution_count": 350,
   "metadata": {
    "collapsed": false
   },
   "outputs": [
    {
     "name": "stdout",
     "output_type": "stream",
     "text": [
      "normalized MSE on the training data = 0.323115089192\n",
      "normalized MSE on the test data = 0.665649553999\n"
     ]
    }
   ],
   "source": [
    "from sklearn import linear_model\n",
    "\n",
    "# TODO:  Fit linear model \n",
    "reg = linear_model.LinearRegression()\n",
    "reg.fit(X_tr, y_tr)\n",
    "\n",
    "# TODO:  Measure normalized mse for the training set and print\n",
    "yhat = reg.predict(X_tr)\n",
    "mse_tr = np.mean((y_tr-yhat)**2)/np.mean(y_tr**2)\n",
    "print('normalized MSE on the training data =', mse_tr)\n",
    "\n",
    "# TODO:  Measure normalized mse for the test set and print\n",
    "yhat = reg.predict(X_ts)\n",
    "mse_ts = np.mean((y_ts-yhat)**2)/np.mean(y_ts**2)\n",
    "print('normalized MSE on the test data =', mse_ts)"
   ]
  },
  {
   "cell_type": "markdown",
   "metadata": {},
   "source": [
    "## LASSO\n",
    "\n",
    "If you did the above correctly, you should see that the test MSE is a lot higher than the training MSE.  This suggests over-fitting. To avoid this, we will use LASSO in combination with k-fold cross validation.  The `sklearn` package has many methods for this purpose. In particular, there is a method `LassoCV()` that performs cross-validation and LASSO fitting.  But, here we will do the cross-validation and regularization selection manually so that you can see how it is done. \n",
    "\n",
    "Toward this end, we first construct a K-fold object with the `model_selection.KFold(...)` command.  Set the parameter `n_splits=nfold` with `nfold = 10`.  Also, set `shuffle=True` to make sure the data is shuffled."
   ]
  },
  {
   "cell_type": "code",
   "execution_count": 351,
   "metadata": {
    "collapsed": false
   },
   "outputs": [],
   "source": [
    "from sklearn import model_selection\n",
    "nfold = 10\n",
    "\n",
    "# TODO\n",
    "# kf = model_selection.KFold(...)\n",
    "\n",
    "kf = model_selection.KFold(n_splits=nfold, shuffle=True)"
   ]
  },
  {
   "cell_type": "markdown",
   "metadata": {},
   "source": [
    "Set the `alpha` values to test in some range.  In this case, it is useful to logarithically space `alpha` from 1e-4 to 1e3."
   ]
  },
  {
   "cell_type": "code",
   "execution_count": 352,
   "metadata": {
    "collapsed": false
   },
   "outputs": [],
   "source": [
    "# TODO:  Create alpha values to test \n",
    "# nalpha = 100\n",
    "# alpha_test = ...  # Use np.logspace(...)\n",
    "nalpha = 100\n",
    "alpha_test = np.logspace(-4, 3, nalpha)\n"
   ]
  },
  {
   "cell_type": "markdown",
   "metadata": {},
   "source": [
    "Now, we do the main cross-validation loop.   You can do this by completing the following code."
   ]
  },
  {
   "cell_type": "code",
   "execution_count": 353,
   "metadata": {
    "collapsed": false
   },
   "outputs": [
    {
     "name": "stdout",
     "output_type": "stream",
     "text": [
      "fold = 0 \n",
      "fold = 1 \n"
     ]
    },
    {
     "name": "stderr",
     "output_type": "stream",
     "text": [
      "/Users/lumi/anaconda/lib/python3.6/site-packages/sklearn/linear_model/coordinate_descent.py:484: ConvergenceWarning: Objective did not converge. You might want to increase the number of iterations. Fitting data with very small alpha may cause precision problems.\n",
      "  ConvergenceWarning)\n"
     ]
    },
    {
     "name": "stdout",
     "output_type": "stream",
     "text": [
      "fold = 2 \n",
      "fold = 3 \n",
      "fold = 4 \n",
      "fold = 5 \n",
      "fold = 6 \n",
      "fold = 7 \n",
      "fold = 8 \n",
      "fold = 9 \n"
     ]
    }
   ],
   "source": [
    "# Construct the LASSO estimator\n",
    "model = linear_model.Lasso(alpha=1e-3)\n",
    "\n",
    "# Create an array to store the MSE values\n",
    "mse_ts = np.zeros((nalpha,nfold))\n",
    "\n",
    "for isplit, Ind in enumerate(kf.split(Xs)):\n",
    "    print(\"fold = %d \" % isplit)\n",
    "    \n",
    "\n",
    "    # TODO:  Get the training data in the split\n",
    "    # Xtr = ...\n",
    "    # Xts = ...\n",
    "    # ytr = ...\n",
    "    # yts = ...\n",
    "    tr_ind, ts_ind = Ind\n",
    "    Xtr, Xts = Xs[tr_ind], Xs[ts_ind]\n",
    "    ytr, yts = ys[tr_ind], ys[ts_ind]\n",
    "\n",
    "    # Loop over the alpha values    \n",
    "    for it, a in enumerate(alpha_test):\n",
    "\n",
    "        # TODO:  Set the model `alpha` value\n",
    "        # model.alpha = ...\n",
    "        model.alpha = a\n",
    "\n",
    "        # TODO:  Fit the data on the training data \n",
    "        model.fit(Xtr, ytr)\n",
    "\n",
    "        # TODO:  Measure the normalized mse on test data\n",
    "        # yhat = ...\n",
    "        yhat = model.predict(Xts)\n",
    "        # mse[it,isplit] = ...\n",
    "        mse_ts[it, isplit] = np.mean((yts-yhat)**2)/np.mean(yts**2)\n"
   ]
  },
  {
   "cell_type": "markdown",
   "metadata": {},
   "source": [
    "Using the values in the array `mse_ts` compute the mean and standard error for the MSE values across the folds."
   ]
  },
  {
   "cell_type": "code",
   "execution_count": 354,
   "metadata": {
    "collapsed": false
   },
   "outputs": [],
   "source": [
    "# TODO\n",
    "# mse_mean = ...\n",
    "mse_mean = np.mean(mse_ts, axis=1)\n",
    "# mse_se = ...\n",
    "mse_se = np.std(mse_ts, axis=1)"
   ]
  },
  {
   "cell_type": "markdown",
   "metadata": {},
   "source": [
    "Using the `errorbar` plot, plot the mean mse with the errorbars equal to the standard error as a function of `alpha`.  Label the axes.  And plot `alpha` in log-scale."
   ]
  },
  {
   "cell_type": "code",
   "execution_count": 247,
   "metadata": {
    "collapsed": false
   },
   "outputs": [
    {
     "data": {
      "image/png": "[encoded data removed]",
      "text/plain": [
       "<matplotlib.figure.Figure at 0x119962748>"
      ]
     },
     "metadata": {},
     "output_type": "display_data"
    }
   ],
   "source": [
    "# TODO\n",
    "plt.errorbar(x = np.log(alpha_test), y = mse_mean , yerr = mse_se)\n",
    "plt.xlabel('log(alpha)')\n",
    "plt.ylabel('MSE with one standard error')\n",
    "plt.grid()"
   ]
  },
  {
   "cell_type": "markdown",
   "metadata": {},
   "source": [
    "Print the optimal alpha under the *normal rule*.  That is, the alpha that minimizes the mean test MSE.  Also, print the corresponding minimum MSE."
   ]
  },
  {
   "cell_type": "code",
   "execution_count": 355,
   "metadata": {
    "collapsed": false
   },
   "outputs": [
    {
     "name": "stdout",
     "output_type": "stream",
     "text": [
      "minimum mse = 0.595660746352\n",
      "under normal rule, the alpha that minimuzes the mean test MSE is [ 0.00422924]\n"
     ]
    }
   ],
   "source": [
    "# TODO\n",
    "\n",
    "minmse = min(mse_mean)\n",
    "print('minimum mse =', minmse)\n",
    "index = np.where(mse_mean == minmse)\n",
    "print('under normal rule, the alpha that minimuzes the mean test MSE is', alpha_test[index])"
   ]
  },
  {
   "cell_type": "markdown",
   "metadata": {},
   "source": [
    "Now print the optimal alpha and MSE under the *one SE rule*."
   ]
  },
  {
   "cell_type": "code",
   "execution_count": 356,
   "metadata": {
    "collapsed": false
   },
   "outputs": [
    {
     "name": "stdout",
     "output_type": "stream",
     "text": [
      "minimum mse + one standard error =  [ 0.87523883]\n",
      "optimal MSE under the one SE rule = 0.865794509374\n",
      "optimal alpha under the one SE rule= 0.40370172586\n"
     ]
    }
   ],
   "source": [
    "# TODO\n",
    "onesemse = minmse + mse_se[index]\n",
    "print('minimum mse + one standard error = ', onesemse)\n",
    "\n",
    "def onese(x):\n",
    "    i = len(x) - 1\n",
    "    while i >= 0:\n",
    "        if mse_mean[i] <= onesemse:\n",
    "            return i\n",
    "        else:\n",
    "            i = i-1\n",
    "    return i\n",
    "\n",
    "ind = onese(mse_mean)\n",
    "\n",
    "print('optimal MSE under the one SE rule =', mse_mean[ind])\n",
    "print('optimal alpha under the one SE rule=', alpha_test[ind])\n",
    "\n"
   ]
  },
  {
   "cell_type": "markdown",
   "metadata": {},
   "source": [
    "Finally, re-fit the model on the entire dataset using the `alpha` from the one SE rule.  Print the coefficients along with the feature names.  Your print out should be something like:\n",
    "\n",
    "     AtBat 0.000000\n",
    "      Hits 0.151910\n",
    "     HmRun 0.000000\n",
    "      Runs 0.000000\n",
    "       RBI 0.000000\n",
    "    ...\n",
    "     \n",
    "This way you can see which features are important."
   ]
  },
  {
   "cell_type": "code",
   "execution_count": 357,
   "metadata": {
    "collapsed": false
   },
   "outputs": [
    {
     "name": "stdout",
     "output_type": "stream",
     "text": [
      "                    0\n",
      "AtBat        0.000000\n",
      "Hits         0.000000\n",
      "HmRun        0.000000\n",
      "Runs         0.000000\n",
      "RBI          0.000000\n",
      "Walks        0.000000\n",
      "Years        0.000000\n",
      "CAtBat       0.000000\n",
      "CHits        0.000000\n",
      "CHmRun       0.000000\n",
      "CRuns        0.000000\n",
      "CRBI         0.209458\n",
      "CWalks       0.000000\n",
      "PutOuts      0.000000\n",
      "Assists      0.000000\n",
      "Errors       0.000000\n",
      "League_A    -0.000000\n",
      "Division_E   0.000000\n",
      "NewLeague_A -0.000000\n"
     ]
    }
   ],
   "source": [
    "# TODO\n",
    "a = alpha_test[ind]\n",
    "model = linear_model.Lasso(alpha=a)\n",
    "model.fit(Xtr, ytr)\n",
    "\n",
    "\n",
    "coef = model.coef_\n",
    "rowname = list(dfX)\n",
    "\n",
    "table = pd.DataFrame(coef, index= rowname)\n",
    "print(table)\n",
    "\n"
   ]
  },
  {
   "cell_type": "markdown",
   "metadata": {},
   "source": [
    "## Lasso path\n",
    "\n",
    "Finally, we will plot the LASSO path to visualize how the coefficients vary with `alpha`.  Read about the `lasso_path` method in sklearn and compute and plot the LASSO path."
   ]
  },
  {
   "cell_type": "code",
   "execution_count": 358,
   "metadata": {
    "collapsed": false
   },
   "outputs": [
    {
     "data": {
      "text/plain": [
       "<matplotlib.legend.Legend at 0x11b469588>"
      ]
     },
     "execution_count": 358,
     "metadata": {},
     "output_type": "execute_result"
    },
    {
     "data": {
      "image/png": "[encoded data removed]",
      "text/plain": [
       "<matplotlib.figure.Figure at 0x11b4699b0>"
      ]
     },
     "metadata": {},
     "output_type": "display_data"
    }
   ],
   "source": [
    "# TODO\n",
    "# alphas1, coeffs, _ = linear_model.lasso_path(...)\n",
    "alphas1, coeffs, _ = linear_model.lasso_path(Xtr, ytr, method='lasso', alpha = alpha_test)\n",
    "coeffs.shape #predictor * alpha\n",
    "#match an alpha with a row of coef\n",
    "\n",
    "\n",
    "for coef_l in coeffs:\n",
    "    plt.plot(alphas1, coef_l)\n",
    "    \n",
    "plt.xlabel('alpha')\n",
    "plt.ylabel('coef')\n",
    "plt.legend(rowname, loc='upper right')"
   ]
  },
  {
   "cell_type": "markdown",
   "metadata": {
    "collapsed": true
   },
   "source": [
    "What are the first eight coefficients that become non-zero in the LASSO path?  \n",
    "\n",
    "One way to do this is as follows:  Recall that `coeffs[i,j]` is the coeffiecient for feature `i` for alpha value `j`.  Compute `nnz[i] = ` the number of alpha values `j` for which the coefficients `coeffs[i,j]` are non-zero.   Then, sort the features by `nnz[i]` in descending order will give the feature indices in order that they appear in the LASSO path.  Print the features names in order."
   ]
  },
  {
   "cell_type": "code",
   "execution_count": 359,
   "metadata": {
    "collapsed": false
   },
   "outputs": [
    {
     "data": {
      "text/html": [
       "<div>\n",
       "<table border=\"1\" class=\"dataframe\">\n",
       "  <thead>\n",
       "    <tr style=\"text-align: right;\">\n",
       "      <th></th>\n",
       "      <th>nnz</th>\n",
       "    </tr>\n",
       "  </thead>\n",
       "  <tbody>\n",
       "    <tr>\n",
       "      <th>CRBI</th>\n",
       "      <td>99</td>\n",
       "    </tr>\n",
       "    <tr>\n",
       "      <th>Walks</th>\n",
       "      <td>94</td>\n",
       "    </tr>\n",
       "    <tr>\n",
       "      <th>Hits</th>\n",
       "      <td>94</td>\n",
       "    </tr>\n",
       "    <tr>\n",
       "      <th>PutOuts</th>\n",
       "      <td>87</td>\n",
       "    </tr>\n",
       "    <tr>\n",
       "      <th>CRuns</th>\n",
       "      <td>86</td>\n",
       "    </tr>\n",
       "    <tr>\n",
       "      <th>Division_E</th>\n",
       "      <td>81</td>\n",
       "    </tr>\n",
       "    <tr>\n",
       "      <th>League_A</th>\n",
       "      <td>63</td>\n",
       "    </tr>\n",
       "    <tr>\n",
       "      <th>CHmRun</th>\n",
       "      <td>62</td>\n",
       "    </tr>\n",
       "    <tr>\n",
       "      <th>Assists</th>\n",
       "      <td>53</td>\n",
       "    </tr>\n",
       "    <tr>\n",
       "      <th>Errors</th>\n",
       "      <td>50</td>\n",
       "    </tr>\n",
       "    <tr>\n",
       "      <th>AtBat</th>\n",
       "      <td>50</td>\n",
       "    </tr>\n",
       "    <tr>\n",
       "      <th>Years</th>\n",
       "      <td>45</td>\n",
       "    </tr>\n",
       "    <tr>\n",
       "      <th>CWalks</th>\n",
       "      <td>43</td>\n",
       "    </tr>\n",
       "    <tr>\n",
       "      <th>HmRun</th>\n",
       "      <td>41</td>\n",
       "    </tr>\n",
       "    <tr>\n",
       "      <th>NewLeague_A</th>\n",
       "      <td>37</td>\n",
       "    </tr>\n",
       "    <tr>\n",
       "      <th>CAtBat</th>\n",
       "      <td>21</td>\n",
       "    </tr>\n",
       "    <tr>\n",
       "      <th>Runs</th>\n",
       "      <td>19</td>\n",
       "    </tr>\n",
       "    <tr>\n",
       "      <th>RBI</th>\n",
       "      <td>12</td>\n",
       "    </tr>\n",
       "    <tr>\n",
       "      <th>CHits</th>\n",
       "      <td>1</td>\n",
       "    </tr>\n",
       "  </tbody>\n",
       "</table>\n",
       "</div>"
      ],
      "text/plain": [
       "             nnz\n",
       "CRBI          99\n",
       "Walks         94\n",
       "Hits          94\n",
       "PutOuts       87\n",
       "CRuns         86\n",
       "Division_E    81\n",
       "League_A      63\n",
       "CHmRun        62\n",
       "Assists       53\n",
       "Errors        50\n",
       "AtBat         50\n",
       "Years         45\n",
       "CWalks        43\n",
       "HmRun         41\n",
       "NewLeague_A   37\n",
       "CAtBat        21\n",
       "Runs          19\n",
       "RBI           12\n",
       "CHits          1"
      ]
     },
     "execution_count": 359,
     "metadata": {},
     "output_type": "execute_result"
    }
   ],
   "source": [
    "# TODO\n",
    "\n",
    "nonzero = (coeffs != 0).astype(int)\n",
    "nnz = np.sum(nonzero, axis=1)\n",
    "\n",
    "nonzerotable = pd.DataFrame(nnz, index= rowname)\n",
    "nonzerotable.columns = ['nnz']\n",
    "nonzerotable.sort_values(by=['nnz'], ascending=False)\n",
    "\n",
    "\n"
   ]
  },
  {
   "cell_type": "code",
   "execution_count": null,
   "metadata": {
    "collapsed": true
   },
   "outputs": [],
   "source": []
  }
 ],
 "metadata": {
  "anaconda-cloud": {},
  "kernelspec": {
   "display_name": "Python 3",
   "language": "python",
   "name": "python3"
  },
  "language_info": {
   "codemirror_mode": {
    "name": "ipython",
    "version": 3
   },
   "file_extension": ".py",
   "mimetype": "text/x-python",
   "name": "python",
   "nbconvert_exporter": "python",
   "pygments_lexer": "ipython3",
   "version": "3.6.0"
  }
 },
 "nbformat": 4,
 "nbformat_minor": 1
}
