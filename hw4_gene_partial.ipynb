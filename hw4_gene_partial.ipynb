{
 "cells": [
  {
   "cell_type": "markdown",
   "metadata": {},
   "source": [
    "# Logistic Regression for Gene Expression Data\n",
    "\n",
    "In this exercise, we use logistic regression to predict biological characteristics (\"phenotypes\") from gene expression data. In doing this exercise, you will learn to:\n",
    "* Handle missing data\n",
    "* Perform multi-class logistic classification\n",
    "* Create a confusion matrix (a table of the fraction of samples of class i being confused with class j)\n",
    "* Use L1-regularization for improved estimation in the case of sparse weights \n",
    "\n",
    "## Background\n",
    "\n",
    "Genes are the basic unit in the DNA and encode blueprints for proteins.  When proteins are synthesized from a gene, the gene is said to \"express\".  Micro-arrays are devices that measure the expression levels of large numbers of genes in parallel.  By finding correlations between expression levels and phenotypes, scientists can identify possible genetic markers for biological characteristics.\n",
    "\n",
    "The data in this lab comes from:\n",
    "\n",
    "https://archive.ics.uci.edu/ml/datasets/Mice+Protein+Expression\n",
    "\n",
    "In this data, mice were characterized by three properties:\n",
    "* Whether they had down's syndrome (trisomy) or not\n",
    "* Whether they were stimulated to learn or not\n",
    "* Whether they had a drug memantine or a saline control solution.\n",
    "\n",
    "With these three choices, there are 8 possible classes for each mouse.  For each mouse, the expression levels were measured across 77 genes.  We will see if the characteristics can be predicted from the gene expression levels.  This classification could reveal which genes are potentially involved in Down's syndrome and if drugs and learning have any noticeable effects.\n"
   ]
  },
  {
   "cell_type": "markdown",
   "metadata": {},
   "source": [
    "## Load the Data\n",
    "\n",
    "We begin by loading the standard modules."
   ]
  },
  {
   "cell_type": "code",
   "execution_count": 2,
   "metadata": {
    "collapsed": true
   },
   "outputs": [],
   "source": [
    "import pandas as pd\n",
    "import numpy as np\n",
    "import matplotlib\n",
    "import matplotlib.pyplot as plt\n",
    "%matplotlib inline\n",
    "from sklearn import linear_model, preprocessing"
   ]
  },
  {
   "cell_type": "markdown",
   "metadata": {},
   "source": [
    "Use the `pd.read_excel` command to read the data from \n",
    "\n",
    "https://archive.ics.uci.edu/ml/machine-learning-databases/00342/Data_Cortex_Nuclear.xls\n",
    "\n",
    "into a dataframe `df`.  Use the `index_col` option to specify that column 0 is the index.  Use the `df.head()` to print the first few rows."
   ]
  },
  {
   "cell_type": "code",
   "execution_count": 3,
   "metadata": {
    "collapsed": false
   },
   "outputs": [
    {
     "data": {
      "text/html": [
       "<div>\n",
       "<table border=\"1\" class=\"dataframe\">\n",
       "  <thead>\n",
       "    <tr style=\"text-align: right;\">\n",
       "      <th></th>\n",
       "      <th>DYRK1A_N</th>\n",
       "      <th>ITSN1_N</th>\n",
       "      <th>BDNF_N</th>\n",
       "      <th>NR1_N</th>\n",
       "      <th>NR2A_N</th>\n",
       "      <th>pAKT_N</th>\n",
       "      <th>pBRAF_N</th>\n",
       "      <th>pCAMKII_N</th>\n",
       "      <th>pCREB_N</th>\n",
       "      <th>pELK_N</th>\n",
       "      <th>...</th>\n",
       "      <th>pCFOS_N</th>\n",
       "      <th>SYP_N</th>\n",
       "      <th>H3AcK18_N</th>\n",
       "      <th>EGR1_N</th>\n",
       "      <th>H3MeK4_N</th>\n",
       "      <th>CaNA_N</th>\n",
       "      <th>Genotype</th>\n",
       "      <th>Treatment</th>\n",
       "      <th>Behavior</th>\n",
       "      <th>class</th>\n",
       "    </tr>\n",
       "    <tr>\n",
       "      <th>MouseID</th>\n",
       "      <th></th>\n",
       "      <th></th>\n",
       "      <th></th>\n",
       "      <th></th>\n",
       "      <th></th>\n",
       "      <th></th>\n",
       "      <th></th>\n",
       "      <th></th>\n",
       "      <th></th>\n",
       "      <th></th>\n",
       "      <th></th>\n",
       "      <th></th>\n",
       "      <th></th>\n",
       "      <th></th>\n",
       "      <th></th>\n",
       "      <th></th>\n",
       "      <th></th>\n",
       "      <th></th>\n",
       "      <th></th>\n",
       "      <th></th>\n",
       "      <th></th>\n",
       "    </tr>\n",
       "  </thead>\n",
       "  <tbody>\n",
       "    <tr>\n",
       "      <th>309_1</th>\n",
       "      <td>0.503644</td>\n",
       "      <td>0.747193</td>\n",
       "      <td>0.430175</td>\n",
       "      <td>2.816329</td>\n",
       "      <td>5.990152</td>\n",
       "      <td>0.218830</td>\n",
       "      <td>0.177565</td>\n",
       "      <td>2.373744</td>\n",
       "      <td>0.232224</td>\n",
       "      <td>1.750936</td>\n",
       "      <td>...</td>\n",
       "      <td>0.108336</td>\n",
       "      <td>0.427099</td>\n",
       "      <td>0.114783</td>\n",
       "      <td>0.131790</td>\n",
       "      <td>0.128186</td>\n",
       "      <td>1.675652</td>\n",
       "      <td>Control</td>\n",
       "      <td>Memantine</td>\n",
       "      <td>C/S</td>\n",
       "      <td>c-CS-m</td>\n",
       "    </tr>\n",
       "    <tr>\n",
       "      <th>309_2</th>\n",
       "      <td>0.514617</td>\n",
       "      <td>0.689064</td>\n",
       "      <td>0.411770</td>\n",
       "      <td>2.789514</td>\n",
       "      <td>5.685038</td>\n",
       "      <td>0.211636</td>\n",
       "      <td>0.172817</td>\n",
       "      <td>2.292150</td>\n",
       "      <td>0.226972</td>\n",
       "      <td>1.596377</td>\n",
       "      <td>...</td>\n",
       "      <td>0.104315</td>\n",
       "      <td>0.441581</td>\n",
       "      <td>0.111974</td>\n",
       "      <td>0.135103</td>\n",
       "      <td>0.131119</td>\n",
       "      <td>1.743610</td>\n",
       "      <td>Control</td>\n",
       "      <td>Memantine</td>\n",
       "      <td>C/S</td>\n",
       "      <td>c-CS-m</td>\n",
       "    </tr>\n",
       "    <tr>\n",
       "      <th>309_3</th>\n",
       "      <td>0.509183</td>\n",
       "      <td>0.730247</td>\n",
       "      <td>0.418309</td>\n",
       "      <td>2.687201</td>\n",
       "      <td>5.622059</td>\n",
       "      <td>0.209011</td>\n",
       "      <td>0.175722</td>\n",
       "      <td>2.283337</td>\n",
       "      <td>0.230247</td>\n",
       "      <td>1.561316</td>\n",
       "      <td>...</td>\n",
       "      <td>0.106219</td>\n",
       "      <td>0.435777</td>\n",
       "      <td>0.111883</td>\n",
       "      <td>0.133362</td>\n",
       "      <td>0.127431</td>\n",
       "      <td>1.926427</td>\n",
       "      <td>Control</td>\n",
       "      <td>Memantine</td>\n",
       "      <td>C/S</td>\n",
       "      <td>c-CS-m</td>\n",
       "    </tr>\n",
       "    <tr>\n",
       "      <th>309_4</th>\n",
       "      <td>0.442107</td>\n",
       "      <td>0.617076</td>\n",
       "      <td>0.358626</td>\n",
       "      <td>2.466947</td>\n",
       "      <td>4.979503</td>\n",
       "      <td>0.222886</td>\n",
       "      <td>0.176463</td>\n",
       "      <td>2.152301</td>\n",
       "      <td>0.207004</td>\n",
       "      <td>1.595086</td>\n",
       "      <td>...</td>\n",
       "      <td>0.111262</td>\n",
       "      <td>0.391691</td>\n",
       "      <td>0.130405</td>\n",
       "      <td>0.147444</td>\n",
       "      <td>0.146901</td>\n",
       "      <td>1.700563</td>\n",
       "      <td>Control</td>\n",
       "      <td>Memantine</td>\n",
       "      <td>C/S</td>\n",
       "      <td>c-CS-m</td>\n",
       "    </tr>\n",
       "    <tr>\n",
       "      <th>309_5</th>\n",
       "      <td>0.434940</td>\n",
       "      <td>0.617430</td>\n",
       "      <td>0.358802</td>\n",
       "      <td>2.365785</td>\n",
       "      <td>4.718679</td>\n",
       "      <td>0.213106</td>\n",
       "      <td>0.173627</td>\n",
       "      <td>2.134014</td>\n",
       "      <td>0.192158</td>\n",
       "      <td>1.504230</td>\n",
       "      <td>...</td>\n",
       "      <td>0.110694</td>\n",
       "      <td>0.434154</td>\n",
       "      <td>0.118481</td>\n",
       "      <td>0.140314</td>\n",
       "      <td>0.148380</td>\n",
       "      <td>1.839730</td>\n",
       "      <td>Control</td>\n",
       "      <td>Memantine</td>\n",
       "      <td>C/S</td>\n",
       "      <td>c-CS-m</td>\n",
       "    </tr>\n",
       "  </tbody>\n",
       "</table>\n",
       "<p>5 rows × 81 columns</p>\n",
       "</div>"
      ],
      "text/plain": [
       "         DYRK1A_N   ITSN1_N    BDNF_N     NR1_N    NR2A_N    pAKT_N   pBRAF_N  \\\n",
       "MouseID                                                                         \n",
       "309_1    0.503644  0.747193  0.430175  2.816329  5.990152  0.218830  0.177565   \n",
       "309_2    0.514617  0.689064  0.411770  2.789514  5.685038  0.211636  0.172817   \n",
       "309_3    0.509183  0.730247  0.418309  2.687201  5.622059  0.209011  0.175722   \n",
       "309_4    0.442107  0.617076  0.358626  2.466947  4.979503  0.222886  0.176463   \n",
       "309_5    0.434940  0.617430  0.358802  2.365785  4.718679  0.213106  0.173627   \n",
       "\n",
       "         pCAMKII_N   pCREB_N    pELK_N   ...     pCFOS_N     SYP_N  H3AcK18_N  \\\n",
       "MouseID                                  ...                                    \n",
       "309_1     2.373744  0.232224  1.750936   ...    0.108336  0.427099   0.114783   \n",
       "309_2     2.292150  0.226972  1.596377   ...    0.104315  0.441581   0.111974   \n",
       "309_3     2.283337  0.230247  1.561316   ...    0.106219  0.435777   0.111883   \n",
       "309_4     2.152301  0.207004  1.595086   ...    0.111262  0.391691   0.130405   \n",
       "309_5     2.134014  0.192158  1.504230   ...    0.110694  0.434154   0.118481   \n",
       "\n",
       "           EGR1_N  H3MeK4_N    CaNA_N  Genotype  Treatment  Behavior   class  \n",
       "MouseID                                                                       \n",
       "309_1    0.131790  0.128186  1.675652   Control  Memantine       C/S  c-CS-m  \n",
       "309_2    0.135103  0.131119  1.743610   Control  Memantine       C/S  c-CS-m  \n",
       "309_3    0.133362  0.127431  1.926427   Control  Memantine       C/S  c-CS-m  \n",
       "309_4    0.147444  0.146901  1.700563   Control  Memantine       C/S  c-CS-m  \n",
       "309_5    0.140314  0.148380  1.839730   Control  Memantine       C/S  c-CS-m  \n",
       "\n",
       "[5 rows x 81 columns]"
      ]
     },
     "execution_count": 3,
     "metadata": {},
     "output_type": "execute_result"
    }
   ],
   "source": [
    "# TODO\n",
    "# df = pd.read_excel(...)\n",
    "df = pd.read_excel(\"https://archive.ics.uci.edu/ml/machine-learning-databases/00342/Data_Cortex_Nuclear.xls\", index_col = 0)\n",
    "df.head()\n"
   ]
  },
  {
   "cell_type": "markdown",
   "metadata": {},
   "source": [
    "This data has missing values.  The site:\n",
    "\n",
    "http://pandas.pydata.org/pandas-docs/stable/missing_data.html\n",
    "\n",
    "has an excellent summary of methods to deal with missing values.  Following the techniques there, create a new data frame `df1` where the missing values in each column are filled with the mean values from the non-missing values."
   ]
  },
  {
   "cell_type": "code",
   "execution_count": 120,
   "metadata": {
    "collapsed": false
   },
   "outputs": [
    {
     "data": {
      "text/plain": [
       "DYRK1A_N           float64\n",
       "ITSN1_N            float64\n",
       "BDNF_N             float64\n",
       "NR1_N              float64\n",
       "NR2A_N             float64\n",
       "pAKT_N             float64\n",
       "pBRAF_N            float64\n",
       "pCAMKII_N          float64\n",
       "pCREB_N            float64\n",
       "pELK_N             float64\n",
       "pERK_N             float64\n",
       "pJNK_N             float64\n",
       "PKCA_N             float64\n",
       "pMEK_N             float64\n",
       "pNR1_N             float64\n",
       "pNR2A_N            float64\n",
       "pNR2B_N            float64\n",
       "pPKCAB_N           float64\n",
       "pRSK_N             float64\n",
       "AKT_N              float64\n",
       "BRAF_N             float64\n",
       "CAMKII_N           float64\n",
       "CREB_N             float64\n",
       "ELK_N              float64\n",
       "ERK_N              float64\n",
       "GSK3B_N            float64\n",
       "JNK_N              float64\n",
       "MEK_N              float64\n",
       "TRKA_N             float64\n",
       "RSK_N              float64\n",
       "                    ...   \n",
       "RRP1_N             float64\n",
       "BAX_N              float64\n",
       "ARC_N              float64\n",
       "ERBB4_N            float64\n",
       "nNOS_N             float64\n",
       "Tau_N              float64\n",
       "GFAP_N             float64\n",
       "GluR3_N            float64\n",
       "GluR4_N            float64\n",
       "IL1B_N             float64\n",
       "P3525_N            float64\n",
       "pCASP9_N           float64\n",
       "PSD95_N            float64\n",
       "SNCA_N             float64\n",
       "Ubiquitin_N        float64\n",
       "pGSK3B_Tyr216_N    float64\n",
       "SHH_N              float64\n",
       "BAD_N              float64\n",
       "BCL2_N             float64\n",
       "pS6_N              float64\n",
       "pCFOS_N            float64\n",
       "SYP_N              float64\n",
       "H3AcK18_N          float64\n",
       "EGR1_N             float64\n",
       "H3MeK4_N           float64\n",
       "CaNA_N             float64\n",
       "Genotype            object\n",
       "Treatment           object\n",
       "Behavior            object\n",
       "class               object\n",
       "dtype: object"
      ]
     },
     "execution_count": 120,
     "metadata": {},
     "output_type": "execute_result"
    }
   ],
   "source": [
    "df.shape\n",
    "df.dtypes\n",
    "#df.columns\n",
    "#np.nanmean(df[df.columns[0]])\n",
    "#df[df.columns[0]].dtypes == 'float64'\n",
    "#df1 = np.zeros(shape=df.shape)\n",
    "#df1 = pd.dataframe(df1, columns = df.columns)\n",
    "#df[df.columns[80]].dtypes == 'object'"
   ]
  },
  {
   "cell_type": "code",
   "execution_count": 5,
   "metadata": {
    "collapsed": false
   },
   "outputs": [
    {
     "data": {
      "text/html": [
       "<div>\n",
       "<table border=\"1\" class=\"dataframe\">\n",
       "  <thead>\n",
       "    <tr style=\"text-align: right;\">\n",
       "      <th></th>\n",
       "      <th>DYRK1A_N</th>\n",
       "      <th>ITSN1_N</th>\n",
       "      <th>BDNF_N</th>\n",
       "      <th>NR1_N</th>\n",
       "      <th>NR2A_N</th>\n",
       "      <th>pAKT_N</th>\n",
       "      <th>pBRAF_N</th>\n",
       "      <th>pCAMKII_N</th>\n",
       "      <th>pCREB_N</th>\n",
       "      <th>pELK_N</th>\n",
       "      <th>...</th>\n",
       "      <th>pCFOS_N</th>\n",
       "      <th>SYP_N</th>\n",
       "      <th>H3AcK18_N</th>\n",
       "      <th>EGR1_N</th>\n",
       "      <th>H3MeK4_N</th>\n",
       "      <th>CaNA_N</th>\n",
       "      <th>Genotype</th>\n",
       "      <th>Treatment</th>\n",
       "      <th>Behavior</th>\n",
       "      <th>class</th>\n",
       "    </tr>\n",
       "    <tr>\n",
       "      <th>MouseID</th>\n",
       "      <th></th>\n",
       "      <th></th>\n",
       "      <th></th>\n",
       "      <th></th>\n",
       "      <th></th>\n",
       "      <th></th>\n",
       "      <th></th>\n",
       "      <th></th>\n",
       "      <th></th>\n",
       "      <th></th>\n",
       "      <th></th>\n",
       "      <th></th>\n",
       "      <th></th>\n",
       "      <th></th>\n",
       "      <th></th>\n",
       "      <th></th>\n",
       "      <th></th>\n",
       "      <th></th>\n",
       "      <th></th>\n",
       "      <th></th>\n",
       "      <th></th>\n",
       "    </tr>\n",
       "  </thead>\n",
       "  <tbody>\n",
       "    <tr>\n",
       "      <th>309_1</th>\n",
       "      <td>0.503644</td>\n",
       "      <td>0.747193</td>\n",
       "      <td>0.430175</td>\n",
       "      <td>2.816329</td>\n",
       "      <td>5.990152</td>\n",
       "      <td>0.218830</td>\n",
       "      <td>0.177565</td>\n",
       "      <td>2.373744</td>\n",
       "      <td>0.232224</td>\n",
       "      <td>1.750936</td>\n",
       "      <td>...</td>\n",
       "      <td>0.108336</td>\n",
       "      <td>0.427099</td>\n",
       "      <td>0.114783</td>\n",
       "      <td>0.131790</td>\n",
       "      <td>0.128186</td>\n",
       "      <td>1.675652</td>\n",
       "      <td>Control</td>\n",
       "      <td>Memantine</td>\n",
       "      <td>C/S</td>\n",
       "      <td>c-CS-m</td>\n",
       "    </tr>\n",
       "    <tr>\n",
       "      <th>309_2</th>\n",
       "      <td>0.514617</td>\n",
       "      <td>0.689064</td>\n",
       "      <td>0.411770</td>\n",
       "      <td>2.789514</td>\n",
       "      <td>5.685038</td>\n",
       "      <td>0.211636</td>\n",
       "      <td>0.172817</td>\n",
       "      <td>2.292150</td>\n",
       "      <td>0.226972</td>\n",
       "      <td>1.596377</td>\n",
       "      <td>...</td>\n",
       "      <td>0.104315</td>\n",
       "      <td>0.441581</td>\n",
       "      <td>0.111974</td>\n",
       "      <td>0.135103</td>\n",
       "      <td>0.131119</td>\n",
       "      <td>1.743610</td>\n",
       "      <td>Control</td>\n",
       "      <td>Memantine</td>\n",
       "      <td>C/S</td>\n",
       "      <td>c-CS-m</td>\n",
       "    </tr>\n",
       "    <tr>\n",
       "      <th>309_3</th>\n",
       "      <td>0.509183</td>\n",
       "      <td>0.730247</td>\n",
       "      <td>0.418309</td>\n",
       "      <td>2.687201</td>\n",
       "      <td>5.622059</td>\n",
       "      <td>0.209011</td>\n",
       "      <td>0.175722</td>\n",
       "      <td>2.283337</td>\n",
       "      <td>0.230247</td>\n",
       "      <td>1.561316</td>\n",
       "      <td>...</td>\n",
       "      <td>0.106219</td>\n",
       "      <td>0.435777</td>\n",
       "      <td>0.111883</td>\n",
       "      <td>0.133362</td>\n",
       "      <td>0.127431</td>\n",
       "      <td>1.926427</td>\n",
       "      <td>Control</td>\n",
       "      <td>Memantine</td>\n",
       "      <td>C/S</td>\n",
       "      <td>c-CS-m</td>\n",
       "    </tr>\n",
       "    <tr>\n",
       "      <th>309_4</th>\n",
       "      <td>0.442107</td>\n",
       "      <td>0.617076</td>\n",
       "      <td>0.358626</td>\n",
       "      <td>2.466947</td>\n",
       "      <td>4.979503</td>\n",
       "      <td>0.222886</td>\n",
       "      <td>0.176463</td>\n",
       "      <td>2.152301</td>\n",
       "      <td>0.207004</td>\n",
       "      <td>1.595086</td>\n",
       "      <td>...</td>\n",
       "      <td>0.111262</td>\n",
       "      <td>0.391691</td>\n",
       "      <td>0.130405</td>\n",
       "      <td>0.147444</td>\n",
       "      <td>0.146901</td>\n",
       "      <td>1.700563</td>\n",
       "      <td>Control</td>\n",
       "      <td>Memantine</td>\n",
       "      <td>C/S</td>\n",
       "      <td>c-CS-m</td>\n",
       "    </tr>\n",
       "    <tr>\n",
       "      <th>309_5</th>\n",
       "      <td>0.434940</td>\n",
       "      <td>0.617430</td>\n",
       "      <td>0.358802</td>\n",
       "      <td>2.365785</td>\n",
       "      <td>4.718679</td>\n",
       "      <td>0.213106</td>\n",
       "      <td>0.173627</td>\n",
       "      <td>2.134014</td>\n",
       "      <td>0.192158</td>\n",
       "      <td>1.504230</td>\n",
       "      <td>...</td>\n",
       "      <td>0.110694</td>\n",
       "      <td>0.434154</td>\n",
       "      <td>0.118481</td>\n",
       "      <td>0.140314</td>\n",
       "      <td>0.148380</td>\n",
       "      <td>1.839730</td>\n",
       "      <td>Control</td>\n",
       "      <td>Memantine</td>\n",
       "      <td>C/S</td>\n",
       "      <td>c-CS-m</td>\n",
       "    </tr>\n",
       "  </tbody>\n",
       "</table>\n",
       "<p>5 rows × 81 columns</p>\n",
       "</div>"
      ],
      "text/plain": [
       "         DYRK1A_N   ITSN1_N    BDNF_N     NR1_N    NR2A_N    pAKT_N   pBRAF_N  \\\n",
       "MouseID                                                                         \n",
       "309_1    0.503644  0.747193  0.430175  2.816329  5.990152  0.218830  0.177565   \n",
       "309_2    0.514617  0.689064  0.411770  2.789514  5.685038  0.211636  0.172817   \n",
       "309_3    0.509183  0.730247  0.418309  2.687201  5.622059  0.209011  0.175722   \n",
       "309_4    0.442107  0.617076  0.358626  2.466947  4.979503  0.222886  0.176463   \n",
       "309_5    0.434940  0.617430  0.358802  2.365785  4.718679  0.213106  0.173627   \n",
       "\n",
       "         pCAMKII_N   pCREB_N    pELK_N   ...     pCFOS_N     SYP_N  H3AcK18_N  \\\n",
       "MouseID                                  ...                                    \n",
       "309_1     2.373744  0.232224  1.750936   ...    0.108336  0.427099   0.114783   \n",
       "309_2     2.292150  0.226972  1.596377   ...    0.104315  0.441581   0.111974   \n",
       "309_3     2.283337  0.230247  1.561316   ...    0.106219  0.435777   0.111883   \n",
       "309_4     2.152301  0.207004  1.595086   ...    0.111262  0.391691   0.130405   \n",
       "309_5     2.134014  0.192158  1.504230   ...    0.110694  0.434154   0.118481   \n",
       "\n",
       "           EGR1_N  H3MeK4_N    CaNA_N  Genotype  Treatment  Behavior   class  \n",
       "MouseID                                                                       \n",
       "309_1    0.131790  0.128186  1.675652   Control  Memantine       C/S  c-CS-m  \n",
       "309_2    0.135103  0.131119  1.743610   Control  Memantine       C/S  c-CS-m  \n",
       "309_3    0.133362  0.127431  1.926427   Control  Memantine       C/S  c-CS-m  \n",
       "309_4    0.147444  0.146901  1.700563   Control  Memantine       C/S  c-CS-m  \n",
       "309_5    0.140314  0.148380  1.839730   Control  Memantine       C/S  c-CS-m  \n",
       "\n",
       "[5 rows x 81 columns]"
      ]
     },
     "execution_count": 5,
     "metadata": {},
     "output_type": "execute_result"
    }
   ],
   "source": [
    "# TODO\n",
    "# df1 = ...\n",
    "#df.shape #(1080, 81)\n",
    "#df.dtypes\n",
    "df1 = df\n",
    "col = df.shape[1] - 1\n",
    "\n",
    "#clean null data\n",
    "for ind in range(col):\n",
    "    if df[df.columns[ind]].dtypes == 'float64':\n",
    "        mean = np.nanmean(df[df.columns[ind]])\n",
    "        df1[df1.columns[ind]] = np.where(df[df.columns[ind]].isnull(), mean, df[df.columns[ind]])\n",
    "    elif df[df.columns[ind]].dtypes == 'object':\n",
    "        df1[df1.columns[ind]] = df[df.columns[ind]]\n",
    "df1.head()"
   ]
  },
  {
   "cell_type": "code",
   "execution_count": 6,
   "metadata": {
    "collapsed": false
   },
   "outputs": [
    {
     "name": "stdout",
     "output_type": "stream",
     "text": [
      "DYRK1A_N           0\n",
      "ITSN1_N            0\n",
      "BDNF_N             0\n",
      "NR1_N              0\n",
      "NR2A_N             0\n",
      "pAKT_N             0\n",
      "pBRAF_N            0\n",
      "pCAMKII_N          0\n",
      "pCREB_N            0\n",
      "pELK_N             0\n",
      "pERK_N             0\n",
      "pJNK_N             0\n",
      "PKCA_N             0\n",
      "pMEK_N             0\n",
      "pNR1_N             0\n",
      "pNR2A_N            0\n",
      "pNR2B_N            0\n",
      "pPKCAB_N           0\n",
      "pRSK_N             0\n",
      "AKT_N              0\n",
      "BRAF_N             0\n",
      "CAMKII_N           0\n",
      "CREB_N             0\n",
      "ELK_N              0\n",
      "ERK_N              0\n",
      "GSK3B_N            0\n",
      "JNK_N              0\n",
      "MEK_N              0\n",
      "TRKA_N             0\n",
      "RSK_N              0\n",
      "                  ..\n",
      "RRP1_N             0\n",
      "BAX_N              0\n",
      "ARC_N              0\n",
      "ERBB4_N            0\n",
      "nNOS_N             0\n",
      "Tau_N              0\n",
      "GFAP_N             0\n",
      "GluR3_N            0\n",
      "GluR4_N            0\n",
      "IL1B_N             0\n",
      "P3525_N            0\n",
      "pCASP9_N           0\n",
      "PSD95_N            0\n",
      "SNCA_N             0\n",
      "Ubiquitin_N        0\n",
      "pGSK3B_Tyr216_N    0\n",
      "SHH_N              0\n",
      "BAD_N              0\n",
      "BCL2_N             0\n",
      "pS6_N              0\n",
      "pCFOS_N            0\n",
      "SYP_N              0\n",
      "H3AcK18_N          0\n",
      "EGR1_N             0\n",
      "H3MeK4_N           0\n",
      "CaNA_N             0\n",
      "Genotype           0\n",
      "Treatment          0\n",
      "Behavior           0\n",
      "class              0\n",
      "dtype: int64\n"
     ]
    }
   ],
   "source": [
    "#check if there are any null cells exist\n",
    "print(df1.isnull().sum())"
   ]
  },
  {
   "cell_type": "markdown",
   "metadata": {},
   "source": [
    "## Binary Classification for Down's Syndrome\n",
    "\n",
    "We will first predict the binary class label in `df1['Genotype']` which indicates if the mouse has Down's syndrome or not.  Get the string values in `df1['Genotype'].values` and convert this to a numeric vector `y` with 0 or 1.  You may wish to use the `np.unique` command with the `return_inverse=True` option."
   ]
  },
  {
   "cell_type": "code",
   "execution_count": 7,
   "metadata": {
    "collapsed": false
   },
   "outputs": [],
   "source": [
    "# TODO\n",
    "# vals, y = ...\n",
    "vals, y = np.unique(df1['Genotype'].values, return_inverse = True)"
   ]
  },
  {
   "cell_type": "markdown",
   "metadata": {},
   "source": [
    "For the predictors, we will use all but the last four columns of the dataframes.  First, get the names of these genes with the command:\n",
    "\n",
    "    xnames = df1.columns[:-4]\n",
    "    \n",
    "Then, get the data values corresponding to these columns and store the values in a matrix `X`.  This matrix will have the expression levels for the 77 genes.  Standardize the data matrix and call the standardized matrix `Xs`. "
   ]
  },
  {
   "cell_type": "code",
   "execution_count": 8,
   "metadata": {
    "collapsed": false
   },
   "outputs": [],
   "source": [
    "# Get names of the genes\n",
    "xnames=df1.columns[:-4]\n",
    "\n",
    "# TODO\n",
    "# X = data matrix corresponding to xnames\n",
    "# Xs = scaled data matrix X\n",
    "X = df1[xnames]\n",
    "Xs = preprocessing.scale(X)"
   ]
  },
  {
   "cell_type": "markdown",
   "metadata": {},
   "source": [
    "Create a `LogisticRegression` object `logreg` and `fit` the training data.  You can leave the arguments blank or specify `C=1`; those are equivalent.  `C` is an inverse L2 regularization constant.  Changing it changes the results."
   ]
  },
  {
   "cell_type": "code",
   "execution_count": 9,
   "metadata": {
    "collapsed": false
   },
   "outputs": [
    {
     "data": {
      "text/plain": [
       "LogisticRegression(C=1.0, class_weight=None, dual=False, fit_intercept=True,\n",
       "          intercept_scaling=1, max_iter=100, multi_class='ovr', n_jobs=1,\n",
       "          penalty='l2', random_state=None, solver='liblinear', tol=0.0001,\n",
       "          verbose=0, warm_start=False)"
      ]
     },
     "execution_count": 9,
     "metadata": {},
     "output_type": "execute_result"
    }
   ],
   "source": [
    "# TODO\n",
    "# logreg = ...\n",
    "# logreg.fit(...)\n",
    "logreg = linear_model.LogisticRegression()\n",
    "logreg.fit(Xs, y)"
   ]
  },
  {
   "cell_type": "markdown",
   "metadata": {},
   "source": [
    "Measure the accuracy of the classifer.  That is, use the `logreg.predict` function to predict labels `yhat` and measure the fraction of time that the predictions match the true labels.  Below, we will properly measure the accuracy on cross-validation data."
   ]
  },
  {
   "cell_type": "code",
   "execution_count": 10,
   "metadata": {
    "collapsed": false
   },
   "outputs": [
    {
     "name": "stdout",
     "output_type": "stream",
     "text": [
      "fraction of time that the prediction match the true labels = 0.985185\n"
     ]
    }
   ],
   "source": [
    "# TODO\n",
    "# yhat = ...\n",
    "# acc = ...\n",
    "yhat = logreg.predict(Xs)\n",
    "acc = np.mean(yhat == y)\n",
    "print('fraction of time that the prediction match the true labels = %f' % acc)"
   ]
  },
  {
   "cell_type": "markdown",
   "metadata": {},
   "source": [
    "## Interpreting the weight vector"
   ]
  },
  {
   "cell_type": "markdown",
   "metadata": {},
   "source": [
    "Create a stem plot of the coefficients, `W` in the logistic regression model.  You can get the coefficients from `logreg.coef_`, but you will need to reshape this to a 1D array.  (Unlike in R or matlab, in Python, an `n`-length row or column vector is considered to be of shape or size `n`.  It is a 1-dimensional object, not an `nx1` or `1xn` object.  So a 2D array consisting of only 1 row or 1 column is not the same thing as being a 1D array.  You can use the `ravel` method where if `u` is `1xn`, `u.ravel()` would return a 1d version of `u`.)"
   ]
  },
  {
   "cell_type": "code",
   "execution_count": 60,
   "metadata": {
    "collapsed": false
   },
   "outputs": [
    {
     "data": {
      "text/plain": [
       "<Container object of 3 artists>"
      ]
     },
     "execution_count": 60,
     "metadata": {},
     "output_type": "execute_result"
    },
    {
     "data": {
      "image/png": "[encoded data removed]",
      "text/plain": [
       "<matplotlib.figure.Figure at 0x110cd24a8>"
      ]
     },
     "metadata": {},
     "output_type": "display_data"
    }
   ],
   "source": [
    "# TODO\n",
    "# W = logref.coef_\n",
    "# W = convert to 1D\n",
    "# Plot W\n",
    "W = logreg.coef_\n",
    "W = W.ravel()\n",
    "plt.stem(W)"
   ]
  },
  {
   "cell_type": "markdown",
   "metadata": {},
   "source": [
    "You should see that `W[i]` is very large for a few components `i`.  These are the genes that are likely to be most involved in Down's Syndrome.  Although, we do not discuss it in this class, there are ways to force the logistic regression to return a sparse vector `W`.  \n",
    "\n",
    "Find the names of the genes for two components `i` where the magnitude of `W[i]` is largest. You could use the command np.argsort with the appropriate arguments."
   ]
  },
  {
   "cell_type": "code",
   "execution_count": 12,
   "metadata": {
    "collapsed": false
   },
   "outputs": [
    {
     "name": "stdout",
     "output_type": "stream",
     "text": [
      "The names of the genes with the largest W are ITSN1_N and APP_N\n"
     ]
    }
   ],
   "source": [
    "# TODO\n",
    "genes = xnames[np.argsort(-W)]\n",
    "print('The names of the genes with the largest W are %s and %s' % (genes[0], genes[1]))"
   ]
  },
  {
   "cell_type": "markdown",
   "metadata": {},
   "source": [
    "## Cross Validation\n",
    "\n",
    "The above meaured the accuracy on the training data.  It is better to measure the accuracy on the test data.  Perform 10-fold cross validation and measure the accuracy.  Note, that in performing the cross-validation, you will want to randomly permute the test and training sets using the `shuffle` option.  In this data set, all the samples from each class are bunched together, so shuffling is essential.  Print the mean accuracy across all the folds.  (If you already did the homework and found precision, f1-score and recall, that is fine.  You do not have to redo this slightly easier version. If you want to the latter, you will need to import precision_recall_fscore_support from sklearn.metrics.)"
   ]
  },
  {
   "cell_type": "code",
   "execution_count": 23,
   "metadata": {
    "collapsed": false
   },
   "outputs": [
    {
     "name": "stdout",
     "output_type": "stream",
     "text": [
      "fold = 0\n",
      "fold = 1\n",
      "fold = 2\n",
      "fold = 3\n",
      "fold = 4\n",
      "fold = 5\n",
      "fold = 6\n",
      "fold = 7\n",
      "fold = 8\n",
      "fold = 9\n",
      "mean of accuracy across all the folds = 0.972222\n"
     ]
    }
   ],
   "source": [
    "# TODO A possible beginning here\n",
    "from sklearn.model_selection import KFold\n",
    "\n",
    "# This line is not necesssary if you are just finding accuracy\n",
    "from sklearn.metrics import precision_recall_fscore_support\n",
    "\n",
    "nfold = 10\n",
    "kf = KFold(n_splits=nfold,shuffle=True)\n",
    "acc=[]\n",
    "for isplit, Ind in enumerate(kf.split(Xs)):\n",
    "    print(\"fold = %d\" % isplit)\n",
    "    Itr, Its = Ind\n",
    "    Xtr = Xs[Itr, :]\n",
    "    ytr = y[Itr]\n",
    "    Xts = Xs[Its, :]\n",
    "    yts = y[Its]\n",
    "    \n",
    "    logreg = linear_model.LogisticRegression()\n",
    "    logreg.fit(Xtr, ytr)\n",
    "    yhat = logreg.predict(Xts)\n",
    "    acc.append((np.mean(yhat == yts)))\n",
    "\n",
    "accuracy = np.mean(acc)\n",
    "print('mean of accuracy across all the folds = %f' %accuracy)"
   ]
  },
  {
   "cell_type": "markdown",
   "metadata": {},
   "source": [
    "## Multi-Class Classification\n",
    "\n",
    "Now use the response variable in `df1['class']`.  This data has 8 possible classes from the three binary properties of mice described above.  Use the `np.unique` funtion as before to convert this to a vector `y` with values 0 to 7. You can see them by starting below."
   ]
  },
  {
   "cell_type": "code",
   "execution_count": 30,
   "metadata": {
    "collapsed": false
   },
   "outputs": [],
   "source": [
    "ystr = df1['class'].values\n",
    "# TODO\n",
    "# vals, y = \n",
    "#np.unique(df1['class'])\n",
    "\n",
    "vals, y = np.unique(df1['class'].values, return_inverse = True)"
   ]
  },
  {
   "cell_type": "markdown",
   "metadata": {},
   "source": [
    "Fit a multi-class logistic model by creating a `LogisticRegression` object, `logreg` and then calling the `logreg.fit` method.  Again, use C=1 or leave the arguments blank.  "
   ]
  },
  {
   "cell_type": "code",
   "execution_count": 42,
   "metadata": {
    "collapsed": false
   },
   "outputs": [
    {
     "data": {
      "text/plain": [
       "LogisticRegression(C=1.0, class_weight=None, dual=False, fit_intercept=True,\n",
       "          intercept_scaling=1, max_iter=100, multi_class='ovr', n_jobs=1,\n",
       "          penalty='l2', random_state=None, solver='liblinear', tol=0.0001,\n",
       "          verbose=0, warm_start=False)"
      ]
     },
     "execution_count": 42,
     "metadata": {},
     "output_type": "execute_result"
    }
   ],
   "source": [
    "# TODO\n",
    "logreg = linear_model.LogisticRegression()\n",
    "logreg.fit(Xs, y)"
   ]
  },
  {
   "cell_type": "markdown",
   "metadata": {},
   "source": [
    "Measure the accuracy on the training data."
   ]
  },
  {
   "cell_type": "code",
   "execution_count": 49,
   "metadata": {
    "collapsed": false
   },
   "outputs": [
    {
     "name": "stdout",
     "output_type": "stream",
     "text": [
      "accuracy = 0.997222\n"
     ]
    }
   ],
   "source": [
    "# TODO\n",
    "yhat = logreg.predict(Xs)\n",
    "acc = np.mean(y == yhat)\n",
    "print('accuracy = %f' % acc)"
   ]
  },
  {
   "cell_type": "markdown",
   "metadata": {},
   "source": [
    "Now perform 10-fold cross validation, and measure the confusion matrix `C` on the test data in each fold. You can use the `confusion_matrix` method in the `sklearn` package.  Add the confusion matrix counts across all folds and then normalize the rows of the confusion matrix so that they sum to one.  Thus, each element `C[i,j]` will represent the fraction of samples where `yhat==j` given `ytrue==i`.  Print the confusion matrix.  You can use the command\n",
    "\n",
    "    print(np.array_str(C, precision=4, suppress_small=True))\n",
    "    \n",
    "to create a nicely formatted print.  Also print the overall mean and SE of the test accuracy across the folds."
   ]
  },
  {
   "cell_type": "code",
   "execution_count": 50,
   "metadata": {
    "collapsed": false
   },
   "outputs": [],
   "source": [
    "# TODO  POssible beginning\n",
    "from sklearn.metrics import confusion_matrix\n",
    "from sklearn.model_selection import KFold\n",
    "\n",
    "logreg = linear_model.LogisticRegression()\n",
    "\n",
    "# Initialize the confusion matrix counts\n",
    "ny = np.max(y)\n",
    "C = np.zeros((ny+1,ny+1))"
   ]
  },
  {
   "cell_type": "code",
   "execution_count": 59,
   "metadata": {
    "collapsed": false
   },
   "outputs": [
    {
     "name": "stdout",
     "output_type": "stream",
     "text": [
      "fold = 0\n",
      "fold = 1\n",
      "fold = 2\n",
      "fold = 3\n",
      "fold = 4\n",
      "fold = 5\n",
      "fold = 6\n",
      "fold = 7\n",
      "fold = 8\n",
      "fold = 9\n",
      "[[ 2.6456 -0.3415 -0.3605 -0.3844 -0.3256 -0.3821 -0.378  -0.378 ]\n",
      " [-0.3659  2.6454 -0.3809 -0.3844 -0.3485 -0.3532 -0.378  -0.378 ]\n",
      " [-0.387  -0.3878  2.6457 -0.3618 -0.3942 -0.3821 -0.378  -0.378 ]\n",
      " [-0.3659 -0.3878 -0.3809  2.6456 -0.3942 -0.3821 -0.378  -0.378 ]\n",
      " [-0.3659 -0.3647 -0.3809 -0.3844  2.6449 -0.3821 -0.378  -0.378 ]\n",
      " [-0.387  -0.3878 -0.3809 -0.3844 -0.3942  2.6456 -0.378  -0.378 ]\n",
      " [-0.387  -0.3878 -0.3809 -0.3618 -0.3942 -0.3821  2.6458 -0.378 ]\n",
      " [-0.387  -0.3878 -0.3809 -0.3844 -0.3942 -0.3821 -0.378   2.6458]]\n",
      "overall mean and SE of the test accuracy across the folds are 0.986111 and 0.006211, respectively\n"
     ]
    }
   ],
   "source": [
    "from sklearn.metrics import confusion_matrix\n",
    "from sklearn.model_selection import KFold\n",
    "\n",
    "nfold = 10\n",
    "kf = KFold(n_splits=nfold,shuffle=True)\n",
    "acc=[]\n",
    "ny = np.max(y)\n",
    "C = np.zeros((ny+1,ny+1))\n",
    "\n",
    "for isplit, Ind in enumerate(kf.split(Xs)):\n",
    "    print(\"fold = %d\" % isplit)\n",
    "    Itr, Its = Ind\n",
    "    Xtr = Xs[Itr, :]\n",
    "    ytr = y[Itr]\n",
    "    Xts = Xs[Its, :]\n",
    "    yts = y[Its]\n",
    "    \n",
    "    logreg = linear_model.LogisticRegression()\n",
    "    logreg.fit(Xtr, ytr)\n",
    "    yhat = logreg.predict(Xts)\n",
    "    #Add the confusion matrix counts across all folds\n",
    "    \n",
    "    C = C + confusion_matrix(yts, yhat)\n",
    "    acc.append((np.mean(yhat == yts)))\n",
    "    \n",
    "\n",
    "\n",
    "\n",
    "#normalize the rows of the confusion matrix so that they sum to one\n",
    "Cs = preprocessing.scale(C)\n",
    "print(np.array_str(Cs, precision=4, suppress_small=True))\n",
    "\n",
    "#print the overall mean and SE of the test accuracy across the folds\n",
    "accuracy = np.mean(acc)\n",
    "sd = np.std(acc)\n",
    "print(\"overall mean and SE of the test accuracy across the folds are %f and %f, respectively\" % (accuracy, sd))"
   ]
  },
  {
   "cell_type": "markdown",
   "metadata": {},
   "source": [
    "Re-run the logistic regression on the entire training data and get the weight coefficients.  This should be a 8 x 77 matrix.  Create a stem plot of the first row of this matrix to see the coefficients on each of the genes for predicting the first class."
   ]
  },
  {
   "cell_type": "code",
   "execution_count": 78,
   "metadata": {
    "collapsed": false
   },
   "outputs": [
    {
     "data": {
      "text/plain": [
       "<Container object of 3 artists>"
      ]
     },
     "execution_count": 78,
     "metadata": {},
     "output_type": "execute_result"
    },
    {
     "data": {
      "image/png": "[encoded data removed]",
      "text/plain": [
       "<matplotlib.figure.Figure at 0x1168f3c88>"
      ]
     },
     "metadata": {},
     "output_type": "display_data"
    }
   ],
   "source": [
    "# TODO\n",
    "\n",
    "logreg = linear_model.LogisticRegression()\n",
    "logreg.fit(Xs, y)\n",
    "W = logreg.coef_\n",
    "\n",
    "#first row of the weight coefficients matrix\n",
    "W1 = W[0,:]\n",
    "W1 = W1.ravel()\n",
    "plt.stem(W1)\n"
   ]
  },
  {
   "cell_type": "markdown",
   "metadata": {
    "collapsed": true
   },
   "source": [
    "## L1-Regularization\n",
    "\n",
    "\n",
    "In most genetic problems, only a limited number of the tested genes are likely influence any particular attribute.  Hence, we would expect that the weight coefficients in the logistic regression model should be sparse.  That is, they should be zero on any gene that plays no role in the particular attribute of interest.  Genetic analysis commonly imposes sparsity by adding an l1-penalty term.  Read the `sklearn` [documentation](http://scikit-learn.org/stable/modules/generated/sklearn.linear_model.LogisticRegression.html) on the `LogisticRegression` class to see how to set the l1-penalty and the inverse regularization strength, `C`.\n",
    "\n",
    "Use K-fold cross validation to select an appropriate inverse regularization strength.  \n",
    "* Use 10-fold cross validation \n",
    "* You should select around 20 values of `C`.  It is up to you find a good range.\n",
    "* Make appropriate plots and print out to display your results\n",
    "* Use the one  SE rule to find the optimal `C`.\n",
    "* How does the accuracy compare to the accuracy achieved without regularization."
   ]
  },
  {
   "cell_type": "code",
   "execution_count": 82,
   "metadata": {
    "collapsed": false
   },
   "outputs": [
    {
     "data": {
      "text/plain": [
       "array([[ 0.87962963,  0.92592593,  0.96296296,  0.96296296,  0.9537037 ,\n",
       "         0.9537037 ,  0.96296296,  0.96296296,  0.96296296,  0.92592593],\n",
       "       [ 0.93518519,  0.97222222,  0.99074074,  0.9537037 ,  0.96296296,\n",
       "         0.97222222,  0.93518519,  0.98148148,  0.97222222,  0.90740741],\n",
       "       [ 0.99074074,  0.96296296,  0.97222222,  0.98148148,  0.98148148,\n",
       "         0.9537037 ,  0.93518519,  0.97222222,  0.9537037 ,  0.97222222],\n",
       "       [ 0.97222222,  0.9537037 ,  0.99074074,  0.96296296,  0.94444444,\n",
       "         0.97222222,  0.98148148,  0.96296296,  0.97222222,  0.97222222],\n",
       "       [ 0.9537037 ,  0.98148148,  0.99074074,  0.97222222,  0.97222222,\n",
       "         0.97222222,  0.9537037 ,  1.        ,  0.96296296,  0.98148148],\n",
       "       [ 0.96296296,  0.97222222,  0.99074074,  1.        ,  1.        ,\n",
       "         0.98148148,  0.98148148,  0.99074074,  0.98148148,  0.99074074],\n",
       "       [ 0.99074074,  0.99074074,  1.        ,  0.96296296,  1.        ,\n",
       "         0.97222222,  0.99074074,  0.99074074,  0.99074074,  1.        ],\n",
       "       [ 0.98148148,  1.        ,  0.98148148,  0.99074074,  1.        ,\n",
       "         0.99074074,  0.97222222,  0.98148148,  0.99074074,  0.97222222],\n",
       "       [ 1.        ,  0.98148148,  1.        ,  0.98148148,  0.98148148,\n",
       "         0.99074074,  0.99074074,  0.99074074,  0.98148148,  0.99074074],\n",
       "       [ 0.99074074,  1.        ,  0.98148148,  0.98148148,  0.97222222,\n",
       "         0.99074074,  0.98148148,  1.        ,  1.        ,  0.99074074],\n",
       "       [ 0.99074074,  1.        ,  0.98148148,  1.        ,  0.99074074,\n",
       "         0.99074074,  0.99074074,  1.        ,  0.99074074,  0.99074074],\n",
       "       [ 0.99074074,  1.        ,  0.99074074,  0.98148148,  1.        ,\n",
       "         0.98148148,  0.97222222,  1.        ,  0.99074074,  0.98148148],\n",
       "       [ 0.99074074,  0.97222222,  1.        ,  0.99074074,  1.        ,\n",
       "         0.99074074,  0.99074074,  0.98148148,  0.99074074,  0.99074074],\n",
       "       [ 1.        ,  1.        ,  0.98148148,  0.99074074,  1.        ,\n",
       "         0.99074074,  0.96296296,  1.        ,  1.        ,  0.99074074],\n",
       "       [ 0.98148148,  0.99074074,  0.99074074,  0.99074074,  0.99074074,\n",
       "         0.99074074,  0.99074074,  0.98148148,  0.98148148,  1.        ],\n",
       "       [ 1.        ,  0.99074074,  0.99074074,  0.99074074,  0.99074074,\n",
       "         1.        ,  0.99074074,  0.98148148,  1.        ,  0.98148148],\n",
       "       [ 1.        ,  0.98148148,  1.        ,  0.98148148,  0.99074074,\n",
       "         0.99074074,  0.99074074,  0.99074074,  1.        ,  0.99074074],\n",
       "       [ 0.99074074,  0.98148148,  0.99074074,  1.        ,  0.99074074,\n",
       "         1.        ,  0.98148148,  1.        ,  0.99074074,  0.99074074],\n",
       "       [ 0.98148148,  0.99074074,  0.99074074,  1.        ,  0.97222222,\n",
       "         0.99074074,  1.        ,  0.99074074,  0.98148148,  1.        ],\n",
       "       [ 1.        ,  1.        ,  1.        ,  1.        ,  1.        ,\n",
       "         0.98148148,  0.99074074,  0.98148148,  0.97222222,  1.        ]])"
      ]
     },
     "execution_count": 82,
     "metadata": {},
     "output_type": "execute_result"
    }
   ],
   "source": [
    "# TODO:  Perform the cross validation to compute the accuracy per fold and per C\n",
    "c = 20\n",
    "c_test = np.logspace(-1, 1, 20)\n",
    "acc = np.zeros((c, nfold))\n",
    "\n",
    "nfold = 10\n",
    "kf = KFold(n_splits=nfold,shuffle=True)\n",
    "\n",
    "for it, c in enumerate(c_test):\n",
    "    for isplit, Ind in enumerate(kf.split(Xs)):\n",
    "        Itr, Its = Ind\n",
    "        Xtr = Xs[Itr, :]\n",
    "        ytr = y[Itr]\n",
    "        Xts = Xs[Its, :]\n",
    "        yts = y[Its]\n",
    "        \n",
    "        logreg = linear_model.LogisticRegression(penalty = 'l1', C=c)\n",
    "        logreg.fit(Xtr, ytr)\n",
    "        yhat = logreg.predict(Xts)\n",
    "        acc[it, isplit] = np.mean(yhat == yts)\n",
    "        \n",
    "acc #col = kfold, row = c\n",
    "\n"
   ]
  },
  {
   "cell_type": "code",
   "execution_count": 81,
   "metadata": {
    "collapsed": false
   },
   "outputs": [
    {
     "data": {
      "image/png": "[encoded data removed]",
      "text/plain": [
       "<matplotlib.figure.Figure at 0x116ec5ef0>"
      ]
     },
     "metadata": {},
     "output_type": "display_data"
    }
   ],
   "source": [
    "# TODO:  Compute the mean and one SE accuracy and plot with errorbars.\n",
    "acc_mean = np.mean(acc, axis = 1)\n",
    "acc_se = np.std(acc, axis = 1)/np.sqrt(nfold - 1)\n",
    "\n",
    "#plot\n",
    "plt.errorbar(np.log10(c_test), acc_mean, yerr=acc_se)\n",
    "plt.xlabel('Log10(c)')\n",
    "plt.ylabel('Accuracy')\n",
    "plt.grid()\n"
   ]
  },
  {
   "cell_type": "code",
   "execution_count": 101,
   "metadata": {
    "collapsed": false
   },
   "outputs": [
    {
     "name": "stdout",
     "output_type": "stream",
     "text": [
      "Max accuracy = 0.993519\n",
      "Optimal C with usual rule = 1.832981\n",
      "Max accuracy with the one SE rule = 0.992593\n",
      "Optimal C with the one SE rule = 1.438450\n"
     ]
    }
   ],
   "source": [
    "# TODO:  Compute the optimal C with the one SE rule\n",
    "imax = np.argmax(acc_mean)\n",
    "c_usu = c_test[imax]\n",
    "acc_usu = acc_mean[imax]\n",
    "\n",
    "print('Max accuracy = %f' %acc_usu)\n",
    "print('Optimal C with usual rule = %f' %c_usu)\n",
    "\n",
    "acc_tgt = acc_usu - acc_se[imax]\n",
    "iopt = np.where(acc_mean >= acc_tgt)[0][0]\n",
    "acc_opt = acc_mean[iopt]\n",
    "c_opt = c_test[iopt]\n",
    "print('Max accuracy with the one SE rule = %f' % acc_opt)\n",
    "print('Optimal C with the one SE rule = %f' % c_opt)"
   ]
  },
  {
   "cell_type": "markdown",
   "metadata": {},
   "source": [
    "For the optimal `C`, fit the model on the entire training data with l1 regularization. Find the resulting weight matrix, `W_l1`.  Plot the first row of this weight matrix and compare it to the first row of the weight matrix without the regularization.  You should see that, with l1-regularization, the weight matrix is much more sparse and hence the roles of particular genes are more clearly visible."
   ]
  },
  {
   "cell_type": "code",
   "execution_count": 118,
   "metadata": {
    "collapsed": false
   },
   "outputs": [
    {
     "data": {
      "image/png": "[encoded data removed]",
      "text/plain": [
       "<matplotlib.figure.Figure at 0x116ded048>"
      ]
     },
     "metadata": {},
     "output_type": "display_data"
    }
   ],
   "source": [
    "# TODO\n",
    "\n",
    "#optimal c = c_opt\n",
    "#with l1 regularization\n",
    "logreg = linear_model.LogisticRegression(penalty = 'l1', C=c_opt)\n",
    "logreg.fit(Xs, y)\n",
    "W = logreg.coef_\n",
    "\n",
    "#first row of the weight coefficients matrix\n",
    "W1 = W[0,:]\n",
    "W1 = W1.ravel()\n",
    "plt.stem(W1)\n",
    "plt.show()"
   ]
  },
  {
   "cell_type": "code",
   "execution_count": 119,
   "metadata": {
    "collapsed": false
   },
   "outputs": [
    {
     "data": {
      "image/png": "[encoded data removed]",
      "text/plain": [
       "<matplotlib.figure.Figure at 0x1175c0e80>"
      ]
     },
     "metadata": {},
     "output_type": "display_data"
    }
   ],
   "source": [
    "#without l1 regularization\n",
    "logreg = linear_model.LogisticRegression(C=c_opt)\n",
    "logreg.fit(Xs, y)\n",
    "W = logreg.coef_\n",
    "\n",
    "#first row of the weight coefficients matrix\n",
    "W1 = W[0,:]\n",
    "W1 = W1.ravel()\n",
    "plt.stem(W1)\n",
    "plt.show()"
   ]
  },
  {
   "cell_type": "code",
   "execution_count": null,
   "metadata": {
    "collapsed": true
   },
   "outputs": [],
   "source": []
  }
 ],
 "metadata": {
  "anaconda-cloud": {},
  "kernelspec": {
   "display_name": "Python 3",
   "language": "python",
   "name": "python3"
  },
  "language_info": {
   "codemirror_mode": {
    "name": "ipython",
    "version": 3
   },
   "file_extension": ".py",
   "mimetype": "text/x-python",
   "name": "python",
   "nbconvert_exporter": "python",
   "pygments_lexer": "ipython3",
   "version": "3.6.0"
  }
 },
 "nbformat": 4,
 "nbformat_minor": 1
}
