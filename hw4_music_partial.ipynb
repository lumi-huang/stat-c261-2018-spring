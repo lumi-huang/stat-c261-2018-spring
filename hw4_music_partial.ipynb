{
 "cells": [
  {
   "cell_type": "markdown",
   "metadata": {},
   "source": [
    "#  Neural Networks for Music Classification\n",
    "\n",
    "In addition to the concepts in the MNIST neural network demo, in this lab, you will learn to:\n",
    "* Load a file from a URL\n",
    "* Extract simple features from audio samples for machine learning tasks such as speech recognition and classification\n",
    "* Build a simple neural network for music classification using these features\n",
    "* Record the loss and accuracy history in the training process\n",
    "* Optimize the learning rate of the neural network\n",
    "\n",
    "To illustrate the basic concepts, we will look at a relatively simple music classification problem.  Given a sample of music, we want to determine which instrument (e.g. trumpet, violin, piano) is playing.  This dataset was generously supplied by [Prof. Juan Bello](http://steinhardt.nyu.edu/faculty/Juan_Pablo_Bello) at NYU Stenihardt  and his former PhD student Eric Humphrey (now at Spotify).  They have a complete website dedicated to deep learning methods in music informatics:\n",
    "\n",
    "http://marl.smusic.nyu.edu/wordpress/projects/feature-learning-deep-architectures/deep-learning-python-tutorial/"
   ]
  },
  {
   "cell_type": "markdown",
   "metadata": {},
   "source": [
    "## Installing and Loading the Keras package\n",
    "\n",
    "Before beginning you need to make sure you have installed tensorflow and keras.  Full instructions are available:\n",
    "*  [Tensorflow installation page](https://www.tensorflow.org/install/)\n",
    "*  [Keras installation page](https://keras.io/#installation)\n",
    "\n",
    "For the most part, you should be able to install both with the commands:\n",
    "     \n",
    "    pip3 install --upgrade tensorflow\n",
    "    pip3 install --upgrade keras\n",
    "    \n",
    "After you have installed the packages, we can begin by loading keras and the other packages"
   ]
  },
  {
   "cell_type": "code",
   "execution_count": 28,
   "metadata": {},
   "outputs": [],
   "source": [
    "import keras"
   ]
  },
  {
   "cell_type": "code",
   "execution_count": 29,
   "metadata": {},
   "outputs": [],
   "source": [
    "import numpy as np\n",
    "import matplotlib\n",
    "import matplotlib.pyplot as plt\n",
    "%matplotlib inline\n",
    "from sklearn import linear_model, preprocessing"
   ]
  },
  {
   "cell_type": "markdown",
   "metadata": {},
   "source": [
    "## Audio Feature Extraction with Librosa\n",
    "\n",
    "The key to audio classification is to extract the correct features. In addition to `keras`, we will need the `librosa` package.  The `librosa` package in python has a rich set of methods extracting the features of audio samples commonly used in machine learning tasks such as speech recognition and sound classification. \n",
    "\n",
    "Installation instructions and complete documentation for the package are given on the [librosa main page](https://librosa.github.io/librosa/).  On most systems, you should be able to simply use:\n",
    "\n",
    "    pip install -u librosa\n",
    "    \n",
    "For Unix, you may need to load some additional packages:\n",
    "\n",
    "    sudo apt-get install build-essential\n",
    "    sudo apt-get install libxext-dev python-qt4 qt4-dev-tools\n",
    "    pip install librosa\n",
    "    \n",
    "After you have installed the package, try to import it."
   ]
  },
  {
   "cell_type": "code",
   "execution_count": 30,
   "metadata": {},
   "outputs": [],
   "source": [
    "import librosa\n",
    "import librosa.display\n",
    "import librosa.feature"
   ]
  },
  {
   "cell_type": "markdown",
   "metadata": {},
   "source": [
    "In this lab, we will use a set of music samples from the website:\n",
    "\n",
    "http://theremin.music.uiowa.edu\n",
    "\n",
    "This website has a great set of samples for audio processing.  Look on the web for how to use the `requests.get` and `file.write` commands to load the file at the URL provided into your working directory.\n",
    "\n",
    "You can play the audio sample by copying the file to your local machine and playing it on any media player.  If you listen to it you will hear a soprano saxaphone (with vibrato) playing four notes (C, C#, D, Eb)."
   ]
  },
  {
   "cell_type": "code",
   "execution_count": 31,
   "metadata": {},
   "outputs": [
    {
     "name": "stdout",
     "output_type": "stream",
     "text": [
      "200\n",
      "None\n"
     ]
    }
   ],
   "source": [
    "import requests\n",
    "fn = \"SopSax.Vib.pp.C6Eb6.aiff\"\n",
    "url = \"http://theremin.music.uiowa.edu/sound files/MIS/Woodwinds/sopranosaxophone/\"+fn\n",
    "\n",
    "\n",
    "# TODO:  Load the file from url and save it in a file under the name fn\n",
    "r = requests.get(url)\n",
    "print(r.status_code)\n",
    "print(r.encoding)\n",
    "\n",
    "with open(fn, 'wb') as fd:\n",
    "    for chunk in r.iter_content(chunk_size=1024):\n",
    "        fd.write(chunk)"
   ]
  },
  {
   "cell_type": "markdown",
   "metadata": {},
   "source": [
    "Next, use `librosa` command `librosa.load` to read the audio file with filename `fn` and get the samples `y` and sample rate `sr`."
   ]
  },
  {
   "cell_type": "code",
   "execution_count": 32,
   "metadata": {},
   "outputs": [],
   "source": [
    "# TODO\n",
    "# y, sr = ...\n",
    "y, sr = librosa.load(fn)"
   ]
  },
  {
   "cell_type": "markdown",
   "metadata": {},
   "source": [
    "Extracting features from audio files is an entire subject on its own right.  A commonly used set of features are called the Mel Frequency Cepstral Coefficients (MFCCs).  These are derived from the so-called mel spectrogram which is something like a regular spectrogram, but the power and frequency are represented in log scale, which more naturally aligns with human perceptual processing.  You can run the code below to display the mel spectrogram from the audio sample.\n",
    "\n",
    "You can easily see the four notes played in the audio track.  You also see the 'harmonics' of each notes, which are other tones at integer multiples of the fundamental frequency of each note."
   ]
  },
  {
   "cell_type": "code",
   "execution_count": 33,
   "metadata": {},
   "outputs": [
    {
     "data": {
      "image/png": "[encoded data removed]",
      "text/plain": [
       "<Figure size 432x288 with 2 Axes>"
      ]
     },
     "metadata": {},
     "output_type": "display_data"
    }
   ],
   "source": [
    "S = librosa.feature.melspectrogram(y=y, sr=sr, n_mels=128, fmax=8000)\n",
    "librosa.display.specshow(librosa.amplitude_to_db(S),\n",
    "                         y_axis='mel', fmax=8000, x_axis='time')\n",
    "plt.colorbar(format='%+2.0f dB')\n",
    "plt.title('Mel spectrogram')\n",
    "plt.tight_layout()"
   ]
  },
  {
   "cell_type": "markdown",
   "metadata": {},
   "source": [
    "## Downloading the Data\n",
    "\n",
    "Using the MFCC features described above, Eric Humphrey and Juan Bellow have created a complete data set that can used for instrument classification.  Essentially, they collected a number of data files from the website above.  For each audio file, the segmented the track into notes and then extracted 120 MFCCs for each note.  The goal is to recognize the instrument from the 120 MFCCs.  The process of feature extraction is quite involved.  So, we will just use their processed data provided at:\n",
    "\n",
    "https://github.com/marl/dl4mir-tutorial/blob/master/README.md\n",
    "\n",
    "Note the password.  Load the four files into some directory, say  `instrument_dataset`.  Then, load them with the commands."
   ]
  },
  {
   "cell_type": "code",
   "execution_count": 34,
   "metadata": {},
   "outputs": [],
   "source": [
    "data_dir = 'instrument_dataset/'\n",
    "Xtr = np.load(data_dir+'uiowa_train_data.npy')\n",
    "ytr = np.load(data_dir+'uiowa_train_labels.npy')\n",
    "Xts = np.load(data_dir+'uiowa_test_data.npy')\n",
    "yts = np.load(data_dir+'uiowa_test_labels.npy')"
   ]
  },
  {
   "cell_type": "markdown",
   "metadata": {},
   "source": [
    "Looking at the data files:\n",
    "* What are the number of training and test samples?\n",
    "* What is the number of features for each sample?\n",
    "* How many classes (i.e. instruments) are there per class?\n"
   ]
  },
  {
   "cell_type": "code",
   "execution_count": 35,
   "metadata": {},
   "outputs": [
    {
     "name": "stdout",
     "output_type": "stream",
     "text": [
      "(66247, 120)\n",
      "(66247,)\n",
      "(14904, 120)\n",
      "(14904,)\n",
      "We have 66247 training samples\n",
      "We have 14904 test samples\n",
      "We have 120 features for each sample\n",
      "[0 1 2 3 4 5 6 7 8 9] We have 10 instruments\n"
     ]
    }
   ],
   "source": [
    "# TODO\n",
    "print(Xtr.shape)\n",
    "print(ytr.shape)\n",
    "print(Xts.shape)\n",
    "print(yts.shape)\n",
    "print('We have %d training samples' %ytr.shape)\n",
    "print('We have %d test samples' %yts.shape)\n",
    "print('We have %d features for each sample' %Xtr.shape[1])\n",
    "print(np.unique(ytr), 'We have 10 instruments')"
   ]
  },
  {
   "cell_type": "markdown",
   "metadata": {},
   "source": [
    "Before continuing, you must scale the training and test data, `Xtr` and `Xts`.  Compute the mean and std deviation of each feature in `Xtr` and create a new training data set, `Xtr_scale`, by subtracting the mean and dividing by the std deviation.  Also compute a scaled test data set, `Xts_scale` using the mean and std deviation learned from the training data set."
   ]
  },
  {
   "cell_type": "code",
   "execution_count": 36,
   "metadata": {},
   "outputs": [],
   "source": [
    "# TODO Scale the training and test matrices\n",
    "# Xtr_scale = ...\n",
    "# Xts_scale = ...\n",
    "Xtr_scale = preprocessing.scale(Xtr)\n",
    "Xts_scale = preprocessing.scale(Xts)"
   ]
  },
  {
   "cell_type": "markdown",
   "metadata": {
    "collapsed": true
   },
   "source": [
    "## Building a Neural Network Classifier\n",
    "\n",
    "Following the example in MNIST neural network demo posted on CCLE on May 24th (there is both a pdf file and a python notebook file; you can save the python notebook file and open it in Jupyter or similiar tool), clear the keras session.  Then, create a neural network `model` with:\n",
    "* `nh=256` hidden units\n",
    "* `sigmoid` activation\n",
    "* select the input and output shapes correctly\n",
    "* print the model summary"
   ]
  },
  {
   "cell_type": "code",
   "execution_count": 37,
   "metadata": {},
   "outputs": [],
   "source": [
    "from keras.models import Model, Sequential\n",
    "from keras.layers import Dense, Activation"
   ]
  },
  {
   "cell_type": "code",
   "execution_count": 38,
   "metadata": {},
   "outputs": [],
   "source": [
    "# Clear session (removes existing models)\n",
    "import keras.backend as K  # From demo (so you can use K.xxx instead of typing keras.backend.xxx)\n",
    "K.clear_session()   "
   ]
  },
  {
   "cell_type": "code",
   "execution_count": 40,
   "metadata": {},
   "outputs": [],
   "source": [
    "# TODO: construct the model\n",
    "nin = Xtr.shape[1] #dimension of input data\n",
    "nh = 256 #number of hidden units\n",
    "nout = int(np.max(ytr) + 1)  #number of outputs = 10 since there are 10 instruments\n",
    "model = Sequential()\n",
    "model.add(Dense(nh, input_shape=(nin,), activation='sigmoid', name='hidden'))\n",
    "model.add(Dense(nout, activation = 'softmax', name='output'))"
   ]
  },
  {
   "cell_type": "code",
   "execution_count": 41,
   "metadata": {},
   "outputs": [
    {
     "name": "stdout",
     "output_type": "stream",
     "text": [
      "_________________________________________________________________\n",
      "Layer (type)                 Output Shape              Param #   \n",
      "=================================================================\n",
      "hidden (Dense)               (None, 256)               30976     \n",
      "_________________________________________________________________\n",
      "output (Dense)               (None, 10)                2570      \n",
      "=================================================================\n",
      "Total params: 33,546\n",
      "Trainable params: 33,546\n",
      "Non-trainable params: 0\n",
      "_________________________________________________________________\n"
     ]
    }
   ],
   "source": [
    "# TODO:  Print the model summary\n",
    "model.summary()"
   ]
  },
  {
   "cell_type": "markdown",
   "metadata": {},
   "source": [
    "Create an optimizer and compile the model.  Select the appropriate loss function and metrics.  For the optimizer, use the Adam optimizer with a learning rate of 0.001"
   ]
  },
  {
   "cell_type": "code",
   "execution_count": 43,
   "metadata": {
    "scrolled": true
   },
   "outputs": [],
   "source": [
    "# TODO\n",
    "# opt = ...\n",
    "# model.compile(...)\n",
    "from keras import optimizers\n",
    "\n",
    "opt = optimizers.Adam(lr = 0.001)\n",
    "model.compile(optimizer=opt,\n",
    "             loss='sparse_categorical_crossentropy',\n",
    "             metrics=['accuracy'])"
   ]
  },
  {
   "cell_type": "markdown",
   "metadata": {},
   "source": [
    "Fit the model for 10 epochs using the scaled data for both the training and validation.  Use the `validation_data` option to pass the test data.  Use a batch size of 100.  Your final accuracy should be >99%.  To record the training history, use\n",
    "\n",
    "     hist = model.fit(...)\n",
    "     \n",
    "This will return a data structure, `hist` with the metrics per epoch."
   ]
  },
  {
   "cell_type": "code",
   "execution_count": 48,
   "metadata": {
    "scrolled": true
   },
   "outputs": [
    {
     "name": "stdout",
     "output_type": "stream",
     "text": [
      "Train on 66247 samples, validate on 14904 samples\n",
      "Epoch 1/10\n",
      "66247/66247 [==============================] - 3s 40us/step - loss: 1.4605 - acc: 0.5162 - val_loss: 1.4951 - val_acc: 0.5391\n",
      "Epoch 2/10\n",
      "66247/66247 [==============================] - 2s 32us/step - loss: 0.9960 - acc: 0.6783 - val_loss: 1.1003 - val_acc: 0.6398\n",
      "Epoch 3/10\n",
      "66247/66247 [==============================] - 2s 34us/step - loss: 0.7336 - acc: 0.7685 - val_loss: 0.8343 - val_acc: 0.7403\n",
      "Epoch 4/10\n",
      "66247/66247 [==============================] - 2s 31us/step - loss: 0.5677 - acc: 0.8285 - val_loss: 0.6557 - val_acc: 0.7882\n",
      "Epoch 5/10\n",
      "66247/66247 [==============================] - 2s 31us/step - loss: 0.4552 - acc: 0.8685 - val_loss: 0.5220 - val_acc: 0.8506\n",
      "Epoch 6/10\n",
      "66247/66247 [==============================] - 2s 33us/step - loss: 0.3745 - acc: 0.8962 - val_loss: 0.4135 - val_acc: 0.8843\n",
      "Epoch 7/10\n",
      "66247/66247 [==============================] - 2s 32us/step - loss: 0.3161 - acc: 0.9163 - val_loss: 0.3566 - val_acc: 0.9039\n",
      "Epoch 8/10\n",
      "66247/66247 [==============================] - 2s 35us/step - loss: 0.2730 - acc: 0.9283 - val_loss: 0.3084 - val_acc: 0.9189\n",
      "Epoch 9/10\n",
      "66247/66247 [==============================] - 2s 32us/step - loss: 0.2406 - acc: 0.9362 - val_loss: 0.2800 - val_acc: 0.9220\n",
      "Epoch 10/10\n",
      "66247/66247 [==============================] - 2s 31us/step - loss: 0.2158 - acc: 0.9408 - val_loss: 0.2519 - val_acc: 0.9275\n"
     ]
    }
   ],
   "source": [
    "# TODO\n",
    "# hist = model.fit(...)\n",
    "hist = model.fit(Xtr, ytr, epochs=10, batch_size=100, validation_data=(Xts,yts))"
   ]
  },
  {
   "cell_type": "markdown",
   "metadata": {},
   "source": [
    "The data structure `hist` should contain the training and validation accuracy as a function of the epoch:\n",
    "*  `hist.history['acc']`:  Training accuracy per epoch\n",
    "*  `hist.history['val_acc']`:  Test/validation accuracy per epoch\n",
    "\n",
    "Plot the training and test validation as a function of the epoch.  Label your graph."
   ]
  },
  {
   "cell_type": "code",
   "execution_count": 80,
   "metadata": {},
   "outputs": [
    {
     "data": {
      "text/plain": [
       "<matplotlib.legend.Legend at 0x122eb3048>"
      ]
     },
     "execution_count": 80,
     "metadata": {},
     "output_type": "execute_result"
    },
    {
     "data": {
      "image/png": "[encoded data removed]",
      "text/plain": [
       "<Figure size 432x288 with 1 Axes>"
      ]
     },
     "metadata": {},
     "output_type": "display_data"
    }
   ],
   "source": [
    "# TODO\n",
    "\n",
    "epochs = np.arange(1,11,1)\n",
    "name = ['training', 'test']\n",
    "\n",
    "plt.plot(epochs, hist.history['acc'], color='green')\n",
    "plt.plot(epochs, hist.history['val_acc'], color='blue')\n",
    "plt.xlabel('epoch')\n",
    "plt.ylabel('accuracy')\n",
    "plt.title('Accuracy as a function of the epoch')\n",
    "plt.grid()\n",
    "plt.legend(name, loc='best')"
   ]
  },
  {
   "cell_type": "markdown",
   "metadata": {},
   "source": [
    "Plot the loss function, stored in `hist.history['loss']`."
   ]
  },
  {
   "cell_type": "code",
   "execution_count": 82,
   "metadata": {},
   "outputs": [
    {
     "data": {
      "image/png": "[encoded data removed]",
      "text/plain": [
       "<Figure size 432x288 with 1 Axes>"
      ]
     },
     "metadata": {},
     "output_type": "display_data"
    }
   ],
   "source": [
    "# TODO\n",
    "plt.plot(epochs, hist.history['loss'])\n",
    "plt.xlabel('epoch')\n",
    "plt.ylabel('loss')\n",
    "plt.title('Loss as a function of the epoch')\n",
    "plt.grid()"
   ]
  },
  {
   "cell_type": "markdown",
   "metadata": {},
   "source": [
    "## Optimizing the Learning Rate\n",
    "\n",
    "One challenge in training neural networks is the selection of the learning rate.  Rerun the above code, trying four learning rates as shown in the vector `rates`.  For each learning rate:\n",
    "* clear the session\n",
    "* construct the network\n",
    "* select the optimizer.  Use the Adam optimizer with the appropriate learrning rate.\n",
    "* train the model\n",
    "* save the accuracy and losses"
   ]
  },
  {
   "cell_type": "code",
   "execution_count": 107,
   "metadata": {},
   "outputs": [
    {
     "name": "stdout",
     "output_type": "stream",
     "text": [
      "Train on 66247 samples, validate on 14904 samples\n",
      "Epoch 1/10\n",
      "66247/66247 [==============================] - 2s 32us/step - loss: 0.6790 - acc: 0.7846 - val_loss: 0.3349 - val_acc: 0.9008\n",
      "Epoch 2/10\n",
      "66247/66247 [==============================] - 2s 29us/step - loss: 0.2030 - acc: 0.9395 - val_loss: 0.2004 - val_acc: 0.9353\n",
      "Epoch 3/10\n",
      "66247/66247 [==============================] - 2s 30us/step - loss: 0.1255 - acc: 0.9616 - val_loss: 0.1613 - val_acc: 0.9444\n",
      "Epoch 4/10\n",
      "66247/66247 [==============================] - 2s 29us/step - loss: 0.0895 - acc: 0.9734 - val_loss: 0.1271 - val_acc: 0.9586\n",
      "Epoch 5/10\n",
      "66247/66247 [==============================] - 2s 30us/step - loss: 0.0695 - acc: 0.9787 - val_loss: 0.1192 - val_acc: 0.9626\n",
      "Epoch 6/10\n",
      "66247/66247 [==============================] - 2s 30us/step - loss: 0.0580 - acc: 0.9823 - val_loss: 0.0936 - val_acc: 0.9727\n",
      "Epoch 7/10\n",
      "66247/66247 [==============================] - 2s 29us/step - loss: 0.0477 - acc: 0.9857 - val_loss: 0.0804 - val_acc: 0.9758\n",
      "Epoch 8/10\n",
      "66247/66247 [==============================] - 2s 30us/step - loss: 0.0429 - acc: 0.9870 - val_loss: 0.1313 - val_acc: 0.9649\n",
      "Epoch 9/10\n",
      "66247/66247 [==============================] - 2s 30us/step - loss: 0.0354 - acc: 0.9895 - val_loss: 0.0916 - val_acc: 0.9690\n",
      "Epoch 10/10\n",
      "66247/66247 [==============================] - 2s 33us/step - loss: 0.0338 - acc: 0.9897 - val_loss: 0.1142 - val_acc: 0.9664\n",
      "Train on 66247 samples, validate on 14904 samples\n",
      "Epoch 1/10\n",
      "66247/66247 [==============================] - 2s 35us/step - loss: 1.4541 - acc: 0.5172 - val_loss: 1.4766 - val_acc: 0.5327\n",
      "Epoch 2/10\n",
      "66247/66247 [==============================] - 2s 31us/step - loss: 0.9901 - acc: 0.6799 - val_loss: 1.1126 - val_acc: 0.6371\n",
      "Epoch 3/10\n",
      "66247/66247 [==============================] - 2s 32us/step - loss: 0.7260 - acc: 0.7731 - val_loss: 0.8504 - val_acc: 0.7143\n",
      "Epoch 4/10\n",
      "66247/66247 [==============================] - 2s 32us/step - loss: 0.5607 - acc: 0.8303 - val_loss: 0.6518 - val_acc: 0.8048\n",
      "Epoch 5/10\n",
      "66247/66247 [==============================] - 2s 31us/step - loss: 0.4498 - acc: 0.8708 - val_loss: 0.5130 - val_acc: 0.8472\n",
      "Epoch 6/10\n",
      "66247/66247 [==============================] - 2s 35us/step - loss: 0.3714 - acc: 0.8976 - val_loss: 0.4197 - val_acc: 0.8802\n",
      "Epoch 7/10\n",
      "66247/66247 [==============================] - 2s 30us/step - loss: 0.3147 - acc: 0.9160 - val_loss: 0.3603 - val_acc: 0.9008\n",
      "Epoch 8/10\n",
      "66247/66247 [==============================] - 2s 31us/step - loss: 0.2721 - acc: 0.9280 - val_loss: 0.3225 - val_acc: 0.9107\n",
      "Epoch 9/10\n",
      "66247/66247 [==============================] - 2s 30us/step - loss: 0.2404 - acc: 0.9369 - val_loss: 0.2812 - val_acc: 0.9218\n",
      "Epoch 10/10\n",
      "66247/66247 [==============================] - 2s 31us/step - loss: 0.2149 - acc: 0.9417 - val_loss: 0.2453 - val_acc: 0.9338\n",
      "Train on 66247 samples, validate on 14904 samples\n",
      "Epoch 1/10\n",
      "66247/66247 [==============================] - 2s 34us/step - loss: 1.9313 - acc: 0.3678 - val_loss: 1.9701 - val_acc: 0.3410\n",
      "Epoch 2/10\n",
      "66247/66247 [==============================] - 2s 30us/step - loss: 1.6997 - acc: 0.4435 - val_loss: 1.8801 - val_acc: 0.3568\n",
      "Epoch 3/10\n",
      "66247/66247 [==============================] - 2s 31us/step - loss: 1.5738 - acc: 0.4735 - val_loss: 1.8041 - val_acc: 0.3791s - loss: 1.59\n",
      "Epoch 4/10\n",
      "66247/66247 [==============================] - 2s 31us/step - loss: 1.4817 - acc: 0.5015 - val_loss: 1.7394 - val_acc: 0.4077\n",
      "Epoch 5/10\n",
      "66247/66247 [==============================] - 2s 31us/step - loss: 1.4087 - acc: 0.5243 - val_loss: 1.6858 - val_acc: 0.4332\n",
      "Epoch 6/10\n",
      "66247/66247 [==============================] - 2s 31us/step - loss: 1.3464 - acc: 0.5470 - val_loss: 1.6368 - val_acc: 0.4535\n",
      "Epoch 7/10\n",
      "66247/66247 [==============================] - 2s 31us/step - loss: 1.2915 - acc: 0.5677 - val_loss: 1.5915 - val_acc: 0.4817\n",
      "Epoch 8/10\n",
      "66247/66247 [==============================] - 2s 30us/step - loss: 1.2409 - acc: 0.5881 - val_loss: 1.5470 - val_acc: 0.4998\n",
      "Epoch 9/10\n",
      "66247/66247 [==============================] - 2s 33us/step - loss: 1.1938 - acc: 0.6069 - val_loss: 1.4986 - val_acc: 0.5184\n",
      "Epoch 10/10\n",
      "66247/66247 [==============================] - 2s 32us/step - loss: 1.1493 - acc: 0.6245 - val_loss: 1.4531 - val_acc: 0.5352\n",
      "[[0.67900702 0.2029849  0.12547327 0.08946065 0.06954126 0.05798865\n",
      "  0.0477152  0.04290375 0.03540991 0.03384757]\n",
      " [1.4541085  0.99009303 0.72599465 0.56069047 0.44983523 0.37137805\n",
      "  0.31470471 0.27212447 0.240413   0.21490317]\n",
      " [1.93127298 1.69967871 1.57379404 1.48169046 1.40865593 1.34640071\n",
      "  1.29148315 1.24091165 1.19377477 1.14932649]]\n",
      "[[0.9007649  0.93525228 0.94437735 0.95860172 0.96256039 0.9726919\n",
      "  0.97577832 0.96490875 0.96900161 0.96638487]\n",
      " [0.53267579 0.63714439 0.71430489 0.8048175  0.84715513 0.8801664\n",
      "  0.9007649  0.91069512 0.92183307 0.93377617]\n",
      " [0.34104938 0.35681696 0.37909286 0.40774289 0.4331723  0.45350242\n",
      "  0.48174987 0.49979871 0.51838433 0.53515835]]\n"
     ]
    }
   ],
   "source": [
    "rates = [0.01,0.001,0.0001]\n",
    "batch_size = 100\n",
    "loss_hist = np.zeros((3, 10))\n",
    "val_acc_hist = np.zeros((3, 10))\n",
    "\n",
    "# TODO\n",
    "for i, rate in enumerate(rates, 1):\n",
    "    K.clear_session()\n",
    "    nin = Xtr.shape[1] #dimension of input data\n",
    "    nh = 256 #number of hidden units\n",
    "    nout = int(np.max(ytr) + 1)  #number of outputs = 10 since there are 10 instruments\n",
    "    model = Sequential()\n",
    "    model.add(Dense(nh, input_shape=(nin,), activation='sigmoid', name='hidden'))\n",
    "    model.add(Dense(nout, activation = 'softmax', name='output'))\n",
    "    \n",
    "    opt = optimizers.Adam(lr = rate)\n",
    "    model.compile(optimizer=opt,\n",
    "                  loss='sparse_categorical_crossentropy',\n",
    "                  metrics=['accuracy'])\n",
    "    hist = model.fit(Xtr, ytr, epochs=10, batch_size=100, validation_data=(Xts,yts))\n",
    "    loss_hist[i-1] = hist.history['loss']\n",
    "    val_acc_hist[i-1] = hist.history['val_acc']\n",
    "    \n",
    "print(loss_hist)\n",
    "print(val_acc_hist)\n",
    "    \n",
    "    \n",
    "    "
   ]
  },
  {
   "cell_type": "markdown",
   "metadata": {},
   "source": [
    "Plot the loss function vs. the epoch number for all three learning rates on one graph.  In order that you can see the difference, it may be useful to plot them using `semilogy` so that the loss is in log scale. You should see that the lower learning rates are more stable, but converge slower."
   ]
  },
  {
   "cell_type": "code",
   "execution_count": 132,
   "metadata": {},
   "outputs": [
    {
     "data": {
      "text/plain": [
       "<matplotlib.legend.Legend at 0x131fbc8d0>"
      ]
     },
     "execution_count": 132,
     "metadata": {},
     "output_type": "execute_result"
    },
    {
     "data": {
      "image/png": "[encoded data removed]",
      "text/plain": [
       "<Figure size 432x288 with 1 Axes>"
      ]
     },
     "metadata": {},
     "output_type": "display_data"
    }
   ],
   "source": [
    "# TODO\n",
    "#loss_hist\n",
    "colors = ['green', 'blue', 'red']\n",
    "epochs = np.arange(1,11,1)\n",
    "for i in range(3):\n",
    "    plt.semilogy(epochs, loss_hist[i,])\n",
    "\n",
    "plt.xlabel('epoch')\n",
    "plt.ylabel('loss')\n",
    "plt.title('Loss as a function of the epoch based on different learning rates')\n",
    "plt.grid()    \n",
    "plt.legend(rates, loc='best')"
   ]
  },
  {
   "cell_type": "code",
   "execution_count": null,
   "metadata": {
    "collapsed": true
   },
   "outputs": [],
   "source": []
  },
  {
   "cell_type": "code",
   "execution_count": null,
   "metadata": {
    "collapsed": true
   },
   "outputs": [],
   "source": []
  }
 ],
 "metadata": {
  "anaconda-cloud": {},
  "kernelspec": {
   "display_name": "Python 3",
   "language": "python",
   "name": "python3"
  },
  "language_info": {
   "codemirror_mode": {
    "name": "ipython",
    "version": 3
   },
   "file_extension": ".py",
   "mimetype": "text/x-python",
   "name": "python",
   "nbconvert_exporter": "python",
   "pygments_lexer": "ipython3",
   "version": "3.6.5"
  }
 },
 "nbformat": 4,
 "nbformat_minor": 1
}
